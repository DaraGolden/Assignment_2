{
 "cells": [
  {
   "cell_type": "code",
   "execution_count": 17,
   "metadata": {},
   "outputs": [],
   "source": [
    "\n",
    "import csv\n",
    "import os\n",
    "import random\n",
    "from datetime import datetime\n",
    "\n",
    "import cv2\n",
    "import matplotlib.pyplot as plt\n",
    "import numpy as np\n",
    "import torch\n",
    "import torch.nn as nn\n",
    "import torch.nn.functional as F\n",
    "import torch.optim as optim\n",
    "from sklearn.metrics import confusion_matrix\n",
    "from torch.utils.data import DataLoader, Dataset, WeightedRandomSampler\n",
    "from torchvision import transforms\n",
    "from tqdm import tqdm"
   ]
  },
  {
   "cell_type": "markdown",
   "metadata": {},
   "source": [
    "# Re-Writing dataset"
   ]
  },
  {
   "cell_type": "code",
   "execution_count": 18,
   "metadata": {},
   "outputs": [
    {
     "name": "stdout",
     "output_type": "stream",
     "text": [
      "Train\n",
      "The wet_asphalt_smooth folder contains 79404 files.\n",
      "The wet_concrete_smooth folder contains 66955 files.\n",
      "The wet_gravel folder contains 36515 files.\n",
      "Test\n",
      "The wet_asphalt_smooth folder contains 79 files.\n",
      "The wet_concrete_smooth folder contains 160 files.\n",
      "The wet_gravel folder contains 2351 files.\n",
      "Validation\n",
      "The wet_asphalt_smooth folder contains 821 files.\n",
      "The wet_concrete_smooth folder contains 821 files.\n",
      "The wet_gravel folder contains 821 files.\n",
      "Total wet_asphalt_smooth: 80304\n",
      "Total wet_concrete_smooth: 67936\n",
      "Total wet_gravel: 39687\n",
      "\n",
      "Ideal split for 80% train, 10% test, 10% validation:\n",
      "Train: 31750.0 files\n",
      "Test: 3969.0 files\n",
      "Validation: 3969.0 files\n"
     ]
    }
   ],
   "source": [
    "# Function used to count number of samples in each class in each set\n",
    "def count_files_in_subfolders(parent_folder):\n",
    "    subfolders = ['wet_asphalt_smooth', 'wet_concrete_smooth', 'wet_gravel']\n",
    "    wet_asphalt_smooth = 0\n",
    "    wet_concrete_smooth = 0\n",
    "    wet_gravel = 0\n",
    "    for subfolder in subfolders:\n",
    "        path = os.path.join(parent_folder, subfolder)\n",
    "        if os.path.exists(path):\n",
    "            count = sum([len(files) for r, d, files in os.walk(path)])\n",
    "            print(f\"The {subfolder} folder contains {count} files.\")\n",
    "            \n",
    "            if subfolder == 'wet_asphalt_smooth':\n",
    "                wet_asphalt_smooth += count\n",
    "            if subfolder == 'wet_concrete_smooth':\n",
    "                wet_concrete_smooth += count\n",
    "            if subfolder == 'wet_gravel':\n",
    "                wet_gravel += count\n",
    "        else:\n",
    "            print(f\"The {subfolder} folder does not exist in the specified path.\")\n",
    "    return [wet_asphalt_smooth, wet_concrete_smooth, wet_gravel]\n",
    "\n",
    "# Prints out the number of files in each folder and accumulates them\n",
    "print('Train')\n",
    "train_total = count_files_in_subfolders(\"Group_9_wet_smooth/Train\")\n",
    "\n",
    "print('Test')\n",
    "test_total = count_files_in_subfolders(\"Group_9_wet_smooth/Test\")\n",
    "\n",
    "print('Validation')\n",
    "valid_total = count_files_in_subfolders(\"Group_9_wet_smooth/Valid\")\n",
    "\n",
    "grand_total = np.array(train_total) + np.array(test_total) + np.array(valid_total)\n",
    "\n",
    "print(f'Total wet_asphalt_smooth: {grand_total[0]}')\n",
    "print(f'Total wet_concrete_smooth: {grand_total[1]}')\n",
    "print(f'Total wet_gravel: {grand_total[2]}')\n",
    "\n",
    "# Calculate the ideal based on the minority class\n",
    "ideal_train = round(np.min(grand_total) * 0.8,0)\n",
    "ideal_test = round(np.min(grand_total) * 0.1,0)\n",
    "ideal_valid = round(np.min(grand_total) * 0.1,0)\n",
    "\n",
    "print(f\"\\nIdeal split for 80% train, 10% test, 10% validation:\")\n",
    "print(f\"Train: {ideal_train} files\")\n",
    "print(f\"Test: {ideal_test} files\")\n",
    "print(f\"Validation: {ideal_valid} files\")\n"
   ]
  },
  {
   "cell_type": "code",
   "execution_count": 19,
   "metadata": {},
   "outputs": [],
   "source": [
    "# Reads a file from old path and writes to new path\n",
    "def read_and_write_img(old_path,new_path):\n",
    "    try:\n",
    "        img = cv2.imread(old_path)\n",
    "        img = cv2.resize(img, (96, 64), interpolation=cv2.INTER_CUBIC)\n",
    "        cv2.imwrite(new_path, img)\n",
    "    except:\n",
    "        print(f'failed on {old_path}')\n",
    "\n",
    "# Takes in old and new dataset folders, the names of the classes and the number of files to be written to the test and validation sets\n",
    "def balance_dataset(old_dataset_folder, new_dataset_folder, classes, test_valid_count):\n",
    "    sets = ['Train', 'Test', 'Valid']\n",
    "    file_lists = {}\n",
    "\n",
    "    # Load and shuffle file lists, shuffling done to ensure excess files taken from old training sets are random.\n",
    "    for set_name in sets:\n",
    "        for class_name in classes:\n",
    "            old_path = os.path.join(old_dataset_folder, set_name, class_name)\n",
    "            files = os.listdir(old_path)\n",
    "            random.shuffle(files)\n",
    "            file_lists[(set_name, class_name)] = files\n",
    "\n",
    "    # Process Validation and Test sets\n",
    "    for set_name in ['Valid', 'Test']:\n",
    "        print(set_name) # For debugging purposes\n",
    "        for class_name in classes:\n",
    "            print(class_name)\n",
    "            new_path = os.path.join(new_dataset_folder, set_name, class_name)\n",
    "            os.makedirs(new_path, exist_ok=True)\n",
    "\n",
    "            # While there are not enough files in the new test or valid folder for a given class\n",
    "            # This will try take a file from the old test/valid folder and if it has run out it will \n",
    "            # instead take the extra it needs from the training class\n",
    "            while len(os.listdir(new_path)) < test_valid_count:\n",
    "                if len(file_lists[(set_name, class_name)]) > 0:\n",
    "                    file_name = file_lists[(set_name, class_name)].pop(0)\n",
    "                    old_img_path = os.path.join(old_dataset_folder, set_name, class_name, file_name)\n",
    "                    new_img_path = os.path.join(new_path, file_name)\n",
    "\n",
    "                    read_and_write_img(old_img_path,new_img_path)\n",
    "                elif len(file_lists[('Train', class_name)]) > 0:\n",
    "                    file_name = file_lists[('Train', class_name)].pop(0)\n",
    "                    old_img_path = os.path.join(old_dataset_folder, 'Train', class_name, file_name)\n",
    "                    new_img_path = os.path.join(new_path, file_name)\n",
    "\n",
    "                    read_and_write_img(old_img_path,new_img_path)\n",
    "                else:\n",
    "                    break\n",
    "\n",
    "    print('Train')\n",
    "    # Process Train set\n",
    "    for class_name in classes:\n",
    "        print(class_name)\n",
    "        new_path = os.path.join(new_dataset_folder, 'Train', class_name)\n",
    "        os.makedirs(new_path, exist_ok=True)\n",
    "\n",
    "        while file_lists[('Train', class_name)]:\n",
    "            file_name = file_lists[('Train', class_name)].pop(0)\n",
    "            old_img_path = os.path.join(old_dataset_folder, 'Train', class_name, file_name)\n",
    "            new_img_path = os.path.join(new_path, file_name)\n",
    "            read_and_write_img(old_img_path,new_img_path)\n",
    "\n",
    "old_dataset_folder = \"Group_9_wet_smooth\"\n",
    "new_dataset_folder = \"New_dataset\"\n",
    "classes = ['wet_asphalt_smooth', 'wet_concrete_smooth', 'wet_gravel']\n",
    "test_valid_count = 3969\n",
    "\n",
    "# Commented out as this has already been completed.\n",
    "# balance_dataset(old_dataset_folder, new_dataset_folder, classes, test_valid_count)\n"
   ]
  },
  {
   "cell_type": "markdown",
   "metadata": {},
   "source": [
    "# Data Loading "
   ]
  },
  {
   "cell_type": "code",
   "execution_count": 20,
   "metadata": {},
   "outputs": [],
   "source": [
    "# Creates a dataset given img directories\n",
    "class ImageDataset(Dataset):\n",
    "    def __init__(self, img_dirs, transform=None):\n",
    "        self.img_dirs = img_dirs\n",
    "        self.transform = transform\n",
    "        self.images = []\n",
    "        self.labels = []\n",
    "        # Utilises the enumerate as the label\n",
    "        for i, img_dir in enumerate(img_dirs):\n",
    "            for img_name in os.listdir(img_dir):\n",
    "                img_path = os.path.join(img_dir, img_name)\n",
    "                self.images.append(img_path)\n",
    "                self.labels.append(i)\n",
    "\n",
    "    def __len__(self):\n",
    "        return len(self.images)\n",
    "\n",
    "    def __getitem__(self, idx):\n",
    "        img = cv2.imread(self.images[idx])\n",
    "        if self.transform:\n",
    "            img = self.transform(img)\n",
    "        label = self.labels[idx]\n",
    "        return img, label\n",
    "\n",
    "# Conversion to tensor also normalises images between 0 and 1\n",
    "inception_transform = transforms.Compose([\n",
    "    transforms.ToTensor(),\n",
    "])\n",
    "    \n",
    "# Creates train, validation and test loaders\n",
    "def create_data_loaders(train_dirs, valid_dirs, test_dirs, batch_size, train_samples, transform=inception_transform):\n",
    " \n",
    "\n",
    "    # Creates datasets\n",
    "    train_datasets = ImageDataset(train_dirs, transform=transform)\n",
    "    valid_datasets = ImageDataset(valid_dirs, transform=transform)\n",
    "    test_datasets = ImageDataset(test_dirs, transform=transform)\n",
    "\n",
    "\n",
    "    \n",
    "\n",
    "    # Given the massive imbalance in the samples in each class a WeightedRandomSampler is used to allow the model to learn properly\n",
    "    # Weights len is of len(num_samples) to give each a weight.\n",
    "    weights_len = len(os.listdir(train_dirs[0])) + len(os.listdir(train_dirs[1])) + len(os.listdir(train_dirs[2]))\n",
    "    sampler_weights = np.zeros(weights_len)\n",
    "\n",
    "    # Pytorch takes all the values in a weighted random sampler and normalises them between 0 and 1 so the sampler_weights array does not have to sum to 1\n",
    "    # All of the samples for each class are given a weight of 1 / Class_num_samples which leads to roughly equal numbers of each class being returned each epoch\n",
    "    sampler_weights[:len(os.listdir(train_dirs[0]))] = 1/len(os.listdir(train_dirs[0]))\n",
    "    sampler_weights[len(os.listdir(train_dirs[0])):-len(os.listdir(train_dirs[2]))] = 1/len(os.listdir(train_dirs[1]))\n",
    "    sampler_weights[-len(os.listdir(train_dirs[2])):] = 1/len(os.listdir(train_dirs[2]))\n",
    "\n",
    "    # sampler is created with the weights, a configurable number of samples per epoch and replacement enabled.\n",
    "    sampler = WeightedRandomSampler(weights=sampler_weights, num_samples=train_samples, replacement=True)\n",
    "    \n",
    "    # Loaders are created from datasets with configurable batch_size\n",
    "    train_loader = DataLoader(train_datasets, batch_size=batch_size, sampler=sampler)\n",
    "    valid_loader = DataLoader(valid_datasets, batch_size=batch_size, shuffle=False)\n",
    "    test_loader = DataLoader(test_datasets, batch_size=batch_size, shuffle=False)\n",
    "\n",
    "    return train_loader, valid_loader, test_loader"
   ]
  },
  {
   "cell_type": "markdown",
   "metadata": {},
   "source": [
    "# Model Training"
   ]
  },
  {
   "cell_type": "code",
   "execution_count": 31,
   "metadata": {},
   "outputs": [],
   "source": [
    "def train_model(model, train_loader, valid_loader, test_loader, epochs, optimizer, criterion, \n",
    "                title, train_samples, learning_rate, batch_size, patience=5):\n",
    "    \n",
    "    # All of the variables needed to train a model are passed to the train model function to allow it to be reused.\n",
    "\n",
    "    # GPU utilised for training.\n",
    "    device = torch.device(\"cuda\" if torch.cuda.is_available() else \"cpu\")\n",
    "    print(device)\n",
    "    model.to(device)\n",
    "    \n",
    "\n",
    "    # Timestamp taken for saving of models and stats of each training run\n",
    "    timestamp = datetime.now().strftime(\"%Y%m%d%H%M%S\")\n",
    "    train_loss_list, train_acc_list , valid_loss_list, valid_acc_list , test_loss_list , test_acc_list  = [],[],[],[],[],[]     \n",
    "    best_valid_loss = float('inf')\n",
    "    patience_counter = 0\n",
    "\n",
    "    # Makes folder for logging\n",
    "    os.makedirs(f'models/{timestamp}', exist_ok=True)\n",
    "    with open(f'models/{timestamp}/{title}.txt', 'w') as f:\n",
    "        f.write(f'Learning Rate: {learning_rate}\\n')\n",
    "        f.write(f'Epochs: {epochs}\\n')\n",
    "        f.write(f'Train Samples: {train_samples}\\n')\n",
    "        f.write(f'Batch Size: {batch_size}\\n')\n",
    "        \n",
    "    # Opens csv to log Loss and Accuracy\n",
    "    with open(f'models/{timestamp}/training_stats.csv', mode='w', newline='') as csvfile:\n",
    "        fieldnames = ['Epoch', 'Train Loss', 'Train Acc', 'Valid Loss', 'Valid Acc', 'Test Loss', 'Test Acc']\n",
    "        writer = csv.DictWriter(csvfile, fieldnames=fieldnames)\n",
    "        writer.writeheader()\n",
    "\n",
    "        for epoch in range(epochs):\n",
    "            train_loss = 0.0\n",
    "            train_correct = 0\n",
    "            model.train()\n",
    "            # Runs through all values in trainloader learns and accumulates loss and accuracy\n",
    "            for i, data in enumerate(tqdm(train_loader, desc='Batches',leave=False)):\n",
    "                images, labels = data\n",
    "                images, labels = images.to(device), labels.to(device)\n",
    "                labels = labels.to(torch.long)  \n",
    "                optimizer.zero_grad()\n",
    "                outputs = model(images)\n",
    "                loss = criterion(outputs, labels)\n",
    "                loss.backward()\n",
    "                optimizer.step()\n",
    "                train_loss += loss.item() * images.size(0)\n",
    "                _, predicted = torch.max(outputs.data, 1)\n",
    "                train_correct += (predicted == labels).sum().item()\n",
    "\n",
    "            # Accumulates loss and accuracy of validation set\n",
    "            valid_loss = 0.0\n",
    "            valid_correct = 0\n",
    "            model.eval()\n",
    "            with torch.no_grad():\n",
    "                for i, data in enumerate(tqdm(valid_loader, desc='Batches',leave=False)):\n",
    "                    images, labels = data\n",
    "                    images, labels = images.to(device), labels.to(device)\n",
    "                    labels = labels.to(torch.long)  \n",
    "                    outputs = model(images)\n",
    "                    loss = criterion(outputs, labels)\n",
    "                    valid_loss += loss.item() * images.size(0)\n",
    "                    _, predicted = torch.max(outputs.data, 1)\n",
    "                    valid_correct += (predicted == labels).sum().item()\n",
    "\n",
    "            # Accumulates loss and accuracy of test set\n",
    "            test_loss = 0.0\n",
    "            test_correct = 0\n",
    "            with torch.no_grad():\n",
    "                for i, data in enumerate(tqdm(test_loader, desc='Batches',leave=False)):\n",
    "                    images, labels = data\n",
    "                    images, labels = images.to(device), labels.to(device)\n",
    "                    labels = labels.to(torch.long)  \n",
    "                    outputs = model(images)\n",
    "                    loss = criterion(outputs, labels)\n",
    "                    \n",
    "                    test_loss += loss.item() * images.size(0)\n",
    "                    _, predicted = torch.max(outputs.data, 1)\n",
    "                    test_correct += (predicted == labels).sum().item()\n",
    "\n",
    "            # Gets average loss and average accuracy for train, validation and test\n",
    "            # Train_samples = configurable length of the trainloader\n",
    "            train_loss /= train_samples;                train_acc = train_correct / train_samples\n",
    "            valid_loss /= len(valid_loader.dataset);    valid_acc = valid_correct / len(valid_loader.dataset)\n",
    "            test_loss /= len(test_loader.dataset);      test_acc = test_correct / len(test_loader.dataset)\n",
    "\n",
    "            train_loss_list.append(train_loss),train_acc_list.append(train_acc),valid_loss_list.append(valid_loss),\n",
    "            valid_acc_list.append(valid_acc),test_loss_list.append(test_loss),test_acc_list.append(test_acc)\n",
    "\n",
    "            print(f'Epoch: {epoch}/{epochs}, Train Loss: {train_loss:.4f}, Train Acc: {train_acc:.4f}, Valid Loss: {valid_loss:.4f}, Valid Acc: {valid_acc:.4f}, Test Loss: {test_loss:.4f}, Test Acc: {test_acc:.4f}')\n",
    "\n",
    "            writer.writerow({'Epoch': epoch,\n",
    "                             'Train Loss': train_loss,\n",
    "                             'Train Acc': train_acc,\n",
    "                             'Valid Loss': valid_loss,\n",
    "                             'Valid Acc': valid_acc,\n",
    "                             'Test Loss': test_loss,\n",
    "                             'Test Acc': test_acc,})\n",
    "            \n",
    "            # Updates best loss achieved, resets patience counter and saves the model\n",
    "            if valid_loss < best_valid_loss:\n",
    "                best_valid_loss = valid_loss\n",
    "                patience_counter = 0\n",
    "                torch.save(model.state_dict(), f'models/{timestamp}/{epoch}.chkpt')\n",
    "            # else increments the patience counter and if it has reached a limit stops the training.\n",
    "            # Patience counter is implemented so if the model is overfitting resources will not be wasted.\n",
    "            else:\n",
    "                patience_counter += 1\n",
    "                if patience_counter >= patience:\n",
    "                    print('Early stopping')\n",
    "                    break\n",
    "        \n",
    "        # Plots the models loass and accuracy.\n",
    "        plt.figure(figsize=(10, 5))\n",
    "        plt.subplot(1, 2, 1)\n",
    "        plt.plot(train_loss_list, label='Train')\n",
    "        plt.plot(valid_loss_list, label='Valid')\n",
    "        plt.plot(test_loss_list, label='Test')\n",
    "        plt.title(f'{title} - Loss')\n",
    "        plt.xlabel('Epochs')\n",
    "        plt.ylabel('Loss')\n",
    "        plt.legend()\n",
    "\n",
    "        plt.subplot(1, 2, 2)\n",
    "        plt.plot(train_acc_list, label='Train')\n",
    "        plt.plot(valid_acc_list, label='Valid')\n",
    "        plt.plot(test_acc_list, label='Test')\n",
    "        plt.title(f'{title} - Accuracy')\n",
    "        plt.xlabel('Epochs')\n",
    "        plt.ylabel('Accuracy')\n",
    "        plt.legend()\n",
    "\n",
    "    # Move model and tensors off the GPU\n",
    "    model.cpu()\n",
    "    torch.cuda.empty_cache()  # Clear GPU cache\n"
   ]
  },
  {
   "cell_type": "markdown",
   "metadata": {},
   "source": [
    "# Defining Datasets and Running code"
   ]
  },
  {
   "cell_type": "code",
   "execution_count": 22,
   "metadata": {},
   "outputs": [],
   "source": [
    "train_dirs = [\"New_dataset/Train/wet_asphalt_smooth\", \"New_dataset/Train/wet_concrete_smooth\", \"New_dataset/Train/wet_gravel\"]\n",
    "valid_dirs = [\"New_dataset/Valid/wet_asphalt_smooth\", \"New_dataset/Valid/wet_concrete_smooth\", \"New_dataset/Valid/wet_gravel\"]\n",
    "test_dirs = [\"New_dataset/Test/wet_asphalt_smooth\", \"New_dataset/Test/wet_concrete_smooth\", \"New_dataset/Test/wet_gravel\"]"
   ]
  },
  {
   "cell_type": "markdown",
   "metadata": {},
   "source": [
    "### Shallow CNN"
   ]
  },
  {
   "cell_type": "code",
   "execution_count": 27,
   "metadata": {},
   "outputs": [
    {
     "name": "stderr",
     "output_type": "stream",
     "text": [
      "Batches: 100%|██████████| 313/313 [00:17<00:00, 17.80it/s]\n"
     ]
    },
    {
     "name": "stdout",
     "output_type": "stream",
     "text": [
      "Epoch: 0/50, Train Loss: 1.0775, Train Acc: 0.4179, Valid Loss: 0.9443, Valid Acc: 0.5849, Test Loss: 0.9451, Test Acc: 0.5814\n"
     ]
    },
    {
     "name": "stderr",
     "output_type": "stream",
     "text": [
      "Batches: 100%|██████████| 313/313 [00:23<00:00, 13.33it/s]\n"
     ]
    },
    {
     "name": "stdout",
     "output_type": "stream",
     "text": [
      "Epoch: 1/50, Train Loss: 0.8201, Train Acc: 0.6048, Valid Loss: 0.7891, Valid Acc: 0.6070, Test Loss: 0.7837, Test Acc: 0.6117\n"
     ]
    },
    {
     "name": "stderr",
     "output_type": "stream",
     "text": [
      "Batches: 100%|██████████| 313/313 [00:19<00:00, 15.86it/s]\n"
     ]
    },
    {
     "name": "stdout",
     "output_type": "stream",
     "text": [
      "Epoch: 2/50, Train Loss: 0.7848, Train Acc: 0.6161, Valid Loss: 0.7798, Valid Acc: 0.6190, Test Loss: 0.7660, Test Acc: 0.6250\n"
     ]
    },
    {
     "name": "stderr",
     "output_type": "stream",
     "text": [
      "Batches: 100%|██████████| 313/313 [00:19<00:00, 16.47it/s]\n"
     ]
    },
    {
     "name": "stdout",
     "output_type": "stream",
     "text": [
      "Epoch: 3/50, Train Loss: 0.7684, Train Acc: 0.6300, Valid Loss: 0.7663, Valid Acc: 0.6246, Test Loss: 0.7548, Test Acc: 0.6315\n"
     ]
    },
    {
     "name": "stderr",
     "output_type": "stream",
     "text": [
      "Batches: 100%|██████████| 313/313 [00:17<00:00, 17.74it/s]\n"
     ]
    },
    {
     "name": "stdout",
     "output_type": "stream",
     "text": [
      "Epoch: 4/50, Train Loss: 0.7587, Train Acc: 0.6353, Valid Loss: 0.7565, Valid Acc: 0.6321, Test Loss: 0.7451, Test Acc: 0.6395\n"
     ]
    },
    {
     "name": "stderr",
     "output_type": "stream",
     "text": [
      "Batches: 100%|██████████| 313/313 [00:16<00:00, 18.52it/s]\n"
     ]
    },
    {
     "name": "stdout",
     "output_type": "stream",
     "text": [
      "Epoch: 5/50, Train Loss: 0.7529, Train Acc: 0.6421, Valid Loss: 0.7457, Valid Acc: 0.6296, Test Loss: 0.7457, Test Acc: 0.6335\n"
     ]
    },
    {
     "name": "stderr",
     "output_type": "stream",
     "text": [
      "Batches: 100%|██████████| 313/313 [00:15<00:00, 19.79it/s]\n"
     ]
    },
    {
     "name": "stdout",
     "output_type": "stream",
     "text": [
      "Epoch: 6/50, Train Loss: 0.7469, Train Acc: 0.6508, Valid Loss: 0.7259, Valid Acc: 0.6440, Test Loss: 0.7215, Test Acc: 0.6511\n"
     ]
    },
    {
     "name": "stderr",
     "output_type": "stream",
     "text": [
      "Batches: 100%|██████████| 313/313 [00:14<00:00, 20.96it/s]\n"
     ]
    },
    {
     "name": "stdout",
     "output_type": "stream",
     "text": [
      "Epoch: 7/50, Train Loss: 0.7248, Train Acc: 0.6650, Valid Loss: 0.7014, Valid Acc: 0.6634, Test Loss: 0.6928, Test Acc: 0.6772\n"
     ]
    },
    {
     "name": "stderr",
     "output_type": "stream",
     "text": [
      "Batches: 100%|██████████| 313/313 [00:13<00:00, 22.45it/s]\n"
     ]
    },
    {
     "name": "stdout",
     "output_type": "stream",
     "text": [
      "Epoch: 8/50, Train Loss: 0.6904, Train Acc: 0.6891, Valid Loss: 0.6643, Valid Acc: 0.6927, Test Loss: 0.6531, Test Acc: 0.7061\n"
     ]
    },
    {
     "name": "stderr",
     "output_type": "stream",
     "text": [
      "Batches: 100%|██████████| 313/313 [00:13<00:00, 23.53it/s]\n"
     ]
    },
    {
     "name": "stdout",
     "output_type": "stream",
     "text": [
      "Epoch: 9/50, Train Loss: 0.6542, Train Acc: 0.7104, Valid Loss: 0.6334, Valid Acc: 0.7120, Test Loss: 0.6201, Test Acc: 0.7282\n"
     ]
    },
    {
     "name": "stderr",
     "output_type": "stream",
     "text": [
      "Batches: 100%|██████████| 313/313 [00:13<00:00, 23.79it/s]\n"
     ]
    },
    {
     "name": "stdout",
     "output_type": "stream",
     "text": [
      "Epoch: 10/50, Train Loss: 0.6349, Train Acc: 0.7304, Valid Loss: 0.6205, Valid Acc: 0.7169, Test Loss: 0.6073, Test Acc: 0.7347\n"
     ]
    },
    {
     "name": "stderr",
     "output_type": "stream",
     "text": [
      "Batches: 100%|██████████| 313/313 [00:13<00:00, 23.02it/s]\n"
     ]
    },
    {
     "name": "stdout",
     "output_type": "stream",
     "text": [
      "Epoch: 11/50, Train Loss: 0.6075, Train Acc: 0.7417, Valid Loss: 0.6045, Valid Acc: 0.7231, Test Loss: 0.5810, Test Acc: 0.7441\n"
     ]
    },
    {
     "name": "stderr",
     "output_type": "stream",
     "text": [
      "Batches: 100%|██████████| 313/313 [00:11<00:00, 26.11it/s]\n"
     ]
    },
    {
     "name": "stdout",
     "output_type": "stream",
     "text": [
      "Epoch: 12/50, Train Loss: 0.5754, Train Acc: 0.7583, Valid Loss: 0.5839, Valid Acc: 0.7309, Test Loss: 0.5623, Test Acc: 0.7515\n"
     ]
    },
    {
     "name": "stderr",
     "output_type": "stream",
     "text": [
      "Batches: 100%|██████████| 313/313 [00:14<00:00, 21.90it/s]\n"
     ]
    },
    {
     "name": "stdout",
     "output_type": "stream",
     "text": [
      "Epoch: 13/50, Train Loss: 0.5653, Train Acc: 0.7617, Valid Loss: 0.5732, Valid Acc: 0.7420, Test Loss: 0.5454, Test Acc: 0.7666\n"
     ]
    },
    {
     "name": "stderr",
     "output_type": "stream",
     "text": [
      "Batches: 100%|██████████| 313/313 [00:15<00:00, 19.80it/s]\n"
     ]
    },
    {
     "name": "stdout",
     "output_type": "stream",
     "text": [
      "Epoch: 14/50, Train Loss: 0.5439, Train Acc: 0.7797, Valid Loss: 0.5590, Valid Acc: 0.7532, Test Loss: 0.5275, Test Acc: 0.7830\n"
     ]
    },
    {
     "name": "stderr",
     "output_type": "stream",
     "text": [
      "Batches: 100%|██████████| 313/313 [00:14<00:00, 20.88it/s]\n"
     ]
    },
    {
     "name": "stdout",
     "output_type": "stream",
     "text": [
      "Epoch: 15/50, Train Loss: 0.5314, Train Acc: 0.7853, Valid Loss: 0.5618, Valid Acc: 0.7520, Test Loss: 0.5277, Test Acc: 0.7805\n"
     ]
    },
    {
     "name": "stderr",
     "output_type": "stream",
     "text": [
      "Batches: 100%|██████████| 313/313 [00:14<00:00, 22.00it/s]\n"
     ]
    },
    {
     "name": "stdout",
     "output_type": "stream",
     "text": [
      "Epoch: 16/50, Train Loss: 0.5268, Train Acc: 0.7884, Valid Loss: 0.5470, Valid Acc: 0.7557, Test Loss: 0.5234, Test Acc: 0.7829\n"
     ]
    },
    {
     "name": "stderr",
     "output_type": "stream",
     "text": [
      "Batches: 100%|██████████| 313/313 [00:13<00:00, 22.72it/s]\n"
     ]
    },
    {
     "name": "stdout",
     "output_type": "stream",
     "text": [
      "Epoch: 17/50, Train Loss: 0.5193, Train Acc: 0.7893, Valid Loss: 0.5427, Valid Acc: 0.7564, Test Loss: 0.5132, Test Acc: 0.7843\n"
     ]
    },
    {
     "name": "stderr",
     "output_type": "stream",
     "text": [
      "Batches: 100%|██████████| 313/313 [00:13<00:00, 22.84it/s]\n"
     ]
    },
    {
     "name": "stdout",
     "output_type": "stream",
     "text": [
      "Epoch: 18/50, Train Loss: 0.5098, Train Acc: 0.7944, Valid Loss: 0.5384, Valid Acc: 0.7606, Test Loss: 0.5034, Test Acc: 0.7905\n"
     ]
    },
    {
     "name": "stderr",
     "output_type": "stream",
     "text": [
      "Batches: 100%|██████████| 313/313 [00:13<00:00, 22.77it/s]\n"
     ]
    },
    {
     "name": "stdout",
     "output_type": "stream",
     "text": [
      "Epoch: 19/50, Train Loss: 0.5012, Train Acc: 0.7971, Valid Loss: 0.5484, Valid Acc: 0.7569, Test Loss: 0.5131, Test Acc: 0.7866\n"
     ]
    },
    {
     "name": "stderr",
     "output_type": "stream",
     "text": [
      "Batches: 100%|██████████| 313/313 [00:12<00:00, 24.38it/s]\n"
     ]
    },
    {
     "name": "stdout",
     "output_type": "stream",
     "text": [
      "Epoch: 20/50, Train Loss: 0.5067, Train Acc: 0.7967, Valid Loss: 0.5409, Valid Acc: 0.7602, Test Loss: 0.5180, Test Acc: 0.7888\n"
     ]
    },
    {
     "name": "stderr",
     "output_type": "stream",
     "text": [
      "Batches: 100%|██████████| 313/313 [00:12<00:00, 25.91it/s]\n"
     ]
    },
    {
     "name": "stdout",
     "output_type": "stream",
     "text": [
      "Epoch: 21/50, Train Loss: 0.4991, Train Acc: 0.7960, Valid Loss: 0.5183, Valid Acc: 0.7669, Test Loss: 0.4936, Test Acc: 0.7947\n"
     ]
    },
    {
     "name": "stderr",
     "output_type": "stream",
     "text": [
      "Batches: 100%|██████████| 313/313 [00:11<00:00, 26.11it/s]\n"
     ]
    },
    {
     "name": "stdout",
     "output_type": "stream",
     "text": [
      "Epoch: 22/50, Train Loss: 0.4922, Train Acc: 0.8016, Valid Loss: 0.5354, Valid Acc: 0.7644, Test Loss: 0.5090, Test Acc: 0.7941\n"
     ]
    },
    {
     "name": "stderr",
     "output_type": "stream",
     "text": [
      "Batches: 100%|██████████| 313/313 [00:11<00:00, 26.35it/s]\n"
     ]
    },
    {
     "name": "stdout",
     "output_type": "stream",
     "text": [
      "Epoch: 23/50, Train Loss: 0.4877, Train Acc: 0.8057, Valid Loss: 0.5059, Valid Acc: 0.7745, Test Loss: 0.4789, Test Acc: 0.8015\n"
     ]
    },
    {
     "name": "stderr",
     "output_type": "stream",
     "text": [
      "Batches: 100%|██████████| 313/313 [00:14<00:00, 22.30it/s]\n"
     ]
    },
    {
     "name": "stdout",
     "output_type": "stream",
     "text": [
      "Epoch: 24/50, Train Loss: 0.4809, Train Acc: 0.8066, Valid Loss: 0.5041, Valid Acc: 0.7724, Test Loss: 0.4784, Test Acc: 0.8037\n"
     ]
    },
    {
     "name": "stderr",
     "output_type": "stream",
     "text": [
      "Batches: 100%|██████████| 313/313 [00:15<00:00, 20.54it/s]\n"
     ]
    },
    {
     "name": "stdout",
     "output_type": "stream",
     "text": [
      "Epoch: 25/50, Train Loss: 0.4865, Train Acc: 0.8044, Valid Loss: 0.4964, Valid Acc: 0.7765, Test Loss: 0.4707, Test Acc: 0.8071\n"
     ]
    },
    {
     "name": "stderr",
     "output_type": "stream",
     "text": [
      "Batches: 100%|██████████| 313/313 [00:14<00:00, 21.74it/s]\n"
     ]
    },
    {
     "name": "stdout",
     "output_type": "stream",
     "text": [
      "Epoch: 26/50, Train Loss: 0.4744, Train Acc: 0.8101, Valid Loss: 0.5012, Valid Acc: 0.7753, Test Loss: 0.4798, Test Acc: 0.8012\n"
     ]
    },
    {
     "name": "stderr",
     "output_type": "stream",
     "text": [
      "Batches: 100%|██████████| 313/313 [00:14<00:00, 22.04it/s]\n"
     ]
    },
    {
     "name": "stdout",
     "output_type": "stream",
     "text": [
      "Epoch: 27/50, Train Loss: 0.4718, Train Acc: 0.8086, Valid Loss: 0.4855, Valid Acc: 0.7810, Test Loss: 0.4656, Test Acc: 0.8104\n"
     ]
    },
    {
     "name": "stderr",
     "output_type": "stream",
     "text": [
      "Batches: 100%|██████████| 313/313 [00:13<00:00, 22.79it/s]\n"
     ]
    },
    {
     "name": "stdout",
     "output_type": "stream",
     "text": [
      "Epoch: 28/50, Train Loss: 0.4663, Train Acc: 0.8119, Valid Loss: 0.4845, Valid Acc: 0.7821, Test Loss: 0.4655, Test Acc: 0.8089\n"
     ]
    },
    {
     "name": "stderr",
     "output_type": "stream",
     "text": [
      "Batches: 100%|██████████| 313/313 [00:13<00:00, 23.26it/s]\n"
     ]
    },
    {
     "name": "stdout",
     "output_type": "stream",
     "text": [
      "Epoch: 29/50, Train Loss: 0.4715, Train Acc: 0.8094, Valid Loss: 0.4807, Valid Acc: 0.7814, Test Loss: 0.4609, Test Acc: 0.8115\n"
     ]
    },
    {
     "name": "stderr",
     "output_type": "stream",
     "text": [
      "Batches: 100%|██████████| 313/313 [00:13<00:00, 23.67it/s]\n"
     ]
    },
    {
     "name": "stdout",
     "output_type": "stream",
     "text": [
      "Epoch: 30/50, Train Loss: 0.4689, Train Acc: 0.8135, Valid Loss: 0.4807, Valid Acc: 0.7825, Test Loss: 0.4583, Test Acc: 0.8120\n"
     ]
    },
    {
     "name": "stderr",
     "output_type": "stream",
     "text": [
      "Batches: 100%|██████████| 313/313 [00:12<00:00, 24.50it/s]\n"
     ]
    },
    {
     "name": "stdout",
     "output_type": "stream",
     "text": [
      "Epoch: 31/50, Train Loss: 0.4595, Train Acc: 0.8138, Valid Loss: 0.4800, Valid Acc: 0.7831, Test Loss: 0.4578, Test Acc: 0.8113\n"
     ]
    },
    {
     "name": "stderr",
     "output_type": "stream",
     "text": [
      "Batches: 100%|██████████| 313/313 [00:12<00:00, 25.21it/s]\n"
     ]
    },
    {
     "name": "stdout",
     "output_type": "stream",
     "text": [
      "Epoch: 32/50, Train Loss: 0.4607, Train Acc: 0.8145, Valid Loss: 0.4727, Valid Acc: 0.7863, Test Loss: 0.4523, Test Acc: 0.8142\n"
     ]
    },
    {
     "name": "stderr",
     "output_type": "stream",
     "text": [
      "Batches: 100%|██████████| 313/313 [00:11<00:00, 26.47it/s]\n"
     ]
    },
    {
     "name": "stdout",
     "output_type": "stream",
     "text": [
      "Epoch: 33/50, Train Loss: 0.4608, Train Acc: 0.8165, Valid Loss: 0.5050, Valid Acc: 0.7764, Test Loss: 0.4891, Test Acc: 0.7956\n"
     ]
    },
    {
     "name": "stderr",
     "output_type": "stream",
     "text": [
      "Batches: 100%|██████████| 313/313 [00:13<00:00, 23.53it/s]\n"
     ]
    },
    {
     "name": "stdout",
     "output_type": "stream",
     "text": [
      "Epoch: 34/50, Train Loss: 0.4644, Train Acc: 0.8109, Valid Loss: 0.4750, Valid Acc: 0.7855, Test Loss: 0.4521, Test Acc: 0.8154\n"
     ]
    },
    {
     "name": "stderr",
     "output_type": "stream",
     "text": [
      "Batches: 100%|██████████| 313/313 [00:15<00:00, 20.24it/s]\n"
     ]
    },
    {
     "name": "stdout",
     "output_type": "stream",
     "text": [
      "Epoch: 35/50, Train Loss: 0.4582, Train Acc: 0.8155, Valid Loss: 0.4769, Valid Acc: 0.7858, Test Loss: 0.4565, Test Acc: 0.8134\n"
     ]
    },
    {
     "name": "stderr",
     "output_type": "stream",
     "text": [
      "Batches: 100%|██████████| 313/313 [00:15<00:00, 20.86it/s]\n"
     ]
    },
    {
     "name": "stdout",
     "output_type": "stream",
     "text": [
      "Epoch: 36/50, Train Loss: 0.4578, Train Acc: 0.8162, Valid Loss: 0.4723, Valid Acc: 0.7874, Test Loss: 0.4498, Test Acc: 0.8153\n"
     ]
    },
    {
     "name": "stderr",
     "output_type": "stream",
     "text": [
      "Batches: 100%|██████████| 313/313 [00:14<00:00, 21.35it/s]\n"
     ]
    },
    {
     "name": "stdout",
     "output_type": "stream",
     "text": [
      "Epoch: 37/50, Train Loss: 0.4508, Train Acc: 0.8227, Valid Loss: 0.4752, Valid Acc: 0.7853, Test Loss: 0.4514, Test Acc: 0.8131\n"
     ]
    },
    {
     "name": "stderr",
     "output_type": "stream",
     "text": [
      "Batches: 100%|██████████| 313/313 [00:14<00:00, 22.10it/s]\n"
     ]
    },
    {
     "name": "stdout",
     "output_type": "stream",
     "text": [
      "Epoch: 38/50, Train Loss: 0.4538, Train Acc: 0.8192, Valid Loss: 0.4695, Valid Acc: 0.7904, Test Loss: 0.4517, Test Acc: 0.8174\n"
     ]
    },
    {
     "name": "stderr",
     "output_type": "stream",
     "text": [
      "Batches: 100%|██████████| 313/313 [00:13<00:00, 23.07it/s]\n"
     ]
    },
    {
     "name": "stdout",
     "output_type": "stream",
     "text": [
      "Epoch: 39/50, Train Loss: 0.4468, Train Acc: 0.8207, Valid Loss: 0.4623, Valid Acc: 0.7920, Test Loss: 0.4401, Test Acc: 0.8208\n"
     ]
    },
    {
     "name": "stderr",
     "output_type": "stream",
     "text": [
      "Batches: 100%|██████████| 313/313 [00:13<00:00, 23.51it/s]\n"
     ]
    },
    {
     "name": "stdout",
     "output_type": "stream",
     "text": [
      "Epoch: 40/50, Train Loss: 0.4484, Train Acc: 0.8259, Valid Loss: 0.4584, Valid Acc: 0.7958, Test Loss: 0.4416, Test Acc: 0.8196\n"
     ]
    },
    {
     "name": "stderr",
     "output_type": "stream",
     "text": [
      "Batches: 100%|██████████| 313/313 [00:13<00:00, 23.66it/s]\n"
     ]
    },
    {
     "name": "stdout",
     "output_type": "stream",
     "text": [
      "Epoch: 41/50, Train Loss: 0.4496, Train Acc: 0.8182, Valid Loss: 0.4537, Valid Acc: 0.7972, Test Loss: 0.4383, Test Acc: 0.8220\n"
     ]
    },
    {
     "name": "stderr",
     "output_type": "stream",
     "text": [
      "Batches: 100%|██████████| 313/313 [00:12<00:00, 25.00it/s]\n"
     ]
    },
    {
     "name": "stdout",
     "output_type": "stream",
     "text": [
      "Epoch: 42/50, Train Loss: 0.4519, Train Acc: 0.8213, Valid Loss: 0.4663, Valid Acc: 0.7909, Test Loss: 0.4442, Test Acc: 0.8205\n"
     ]
    },
    {
     "name": "stderr",
     "output_type": "stream",
     "text": [
      "Batches: 100%|██████████| 313/313 [00:11<00:00, 26.43it/s]\n"
     ]
    },
    {
     "name": "stdout",
     "output_type": "stream",
     "text": [
      "Epoch: 43/50, Train Loss: 0.4360, Train Acc: 0.8266, Valid Loss: 0.4605, Valid Acc: 0.7936, Test Loss: 0.4387, Test Acc: 0.8209\n"
     ]
    },
    {
     "name": "stderr",
     "output_type": "stream",
     "text": [
      "Batches: 100%|██████████| 313/313 [00:12<00:00, 25.35it/s]\n"
     ]
    },
    {
     "name": "stdout",
     "output_type": "stream",
     "text": [
      "Epoch: 44/50, Train Loss: 0.4464, Train Acc: 0.8196, Valid Loss: 0.4592, Valid Acc: 0.7928, Test Loss: 0.4363, Test Acc: 0.8211\n"
     ]
    },
    {
     "name": "stderr",
     "output_type": "stream",
     "text": [
      "Batches: 100%|██████████| 313/313 [00:13<00:00, 23.10it/s]\n"
     ]
    },
    {
     "name": "stdout",
     "output_type": "stream",
     "text": [
      "Epoch: 45/50, Train Loss: 0.4452, Train Acc: 0.8227, Valid Loss: 0.4524, Valid Acc: 0.8078, Test Loss: 0.4430, Test Acc: 0.8213\n"
     ]
    },
    {
     "name": "stderr",
     "output_type": "stream",
     "text": [
      "Batches: 100%|██████████| 313/313 [00:15<00:00, 19.58it/s]\n"
     ]
    },
    {
     "name": "stdout",
     "output_type": "stream",
     "text": [
      "Epoch: 46/50, Train Loss: 0.4484, Train Acc: 0.8225, Valid Loss: 0.4498, Valid Acc: 0.8011, Test Loss: 0.4322, Test Acc: 0.8256\n"
     ]
    },
    {
     "name": "stderr",
     "output_type": "stream",
     "text": [
      "Batches: 100%|██████████| 313/313 [00:15<00:00, 19.69it/s]\n"
     ]
    },
    {
     "name": "stdout",
     "output_type": "stream",
     "text": [
      "Epoch: 47/50, Train Loss: 0.4478, Train Acc: 0.8246, Valid Loss: 0.4836, Valid Acc: 0.7913, Test Loss: 0.4667, Test Acc: 0.8086\n"
     ]
    },
    {
     "name": "stderr",
     "output_type": "stream",
     "text": [
      "Batches: 100%|██████████| 313/313 [00:15<00:00, 20.29it/s]\n"
     ]
    },
    {
     "name": "stdout",
     "output_type": "stream",
     "text": [
      "Epoch: 48/50, Train Loss: 0.4428, Train Acc: 0.8230, Valid Loss: 0.4566, Valid Acc: 0.8050, Test Loss: 0.4424, Test Acc: 0.8203\n"
     ]
    },
    {
     "name": "stderr",
     "output_type": "stream",
     "text": [
      "Batches: 100%|██████████| 313/313 [00:14<00:00, 21.53it/s]\n"
     ]
    },
    {
     "name": "stdout",
     "output_type": "stream",
     "text": [
      "Epoch: 49/50, Train Loss: 0.4318, Train Acc: 0.8296, Valid Loss: 0.4614, Valid Acc: 0.8065, Test Loss: 0.4464, Test Acc: 0.8208\n"
     ]
    },
    {
     "data": {
      "image/png": "[encoded data removed]",
      "text/plain": [
       "<Figure size 1000x500 with 2 Axes>"
      ]
     },
     "metadata": {},
     "output_type": "display_data"
    }
   ],
   "source": [
    "from Shallow_CNN import shallowCNN\n",
    "\n",
    "batch_size = 64\n",
    "train_samples = 20000\n",
    "\n",
    "train_loader, valid_loader, test_loader = create_data_loaders(train_dirs, valid_dirs, test_dirs, \n",
    "                                                              batch_size, train_samples)\n",
    "\n",
    "shallow_cnn_model = shallowCNN()\n",
    "\n",
    "shallow_cnn_lr = 0.00001\n",
    "criterion = nn.CrossEntropyLoss()\n",
    "optimizer = optim.Adam(shallow_cnn_model.parameters(), shallow_cnn_lr)\n",
    "\n",
    "train_model(shallow_cnn_model, train_loader, valid_loader, test_loader, 50, optimizer,\n",
    "            criterion, 'shallow_cnn_model', train_samples, shallow_cnn_lr, batch_size, 50)"
   ]
  },
  {
   "cell_type": "markdown",
   "metadata": {},
   "source": [
    "### VGG16"
   ]
  },
  {
   "cell_type": "code",
   "execution_count": 57,
   "metadata": {},
   "outputs": [
    {
     "name": "stderr",
     "output_type": "stream",
     "text": [
      "                                                          \r"
     ]
    },
    {
     "name": "stdout",
     "output_type": "stream",
     "text": [
      "Epoch: 0/50, Train Loss: 0.6073, Train Acc: 0.7541, Valid Loss: 0.5134, Valid Acc: 0.7810, Test Loss: 0.4709, Test Acc: 0.8053\n"
     ]
    },
    {
     "name": "stderr",
     "output_type": "stream",
     "text": [
      "                                                          \r"
     ]
    },
    {
     "name": "stdout",
     "output_type": "stream",
     "text": [
      "Epoch: 1/50, Train Loss: 0.4961, Train Acc: 0.7957, Valid Loss: 0.4858, Valid Acc: 0.7932, Test Loss: 0.4425, Test Acc: 0.8166\n"
     ]
    },
    {
     "name": "stderr",
     "output_type": "stream",
     "text": [
      "                                                          \r"
     ]
    },
    {
     "name": "stdout",
     "output_type": "stream",
     "text": [
      "Epoch: 2/50, Train Loss: 0.4771, Train Acc: 0.8018, Valid Loss: 0.4791, Valid Acc: 0.7968, Test Loss: 0.4295, Test Acc: 0.8209\n"
     ]
    },
    {
     "name": "stderr",
     "output_type": "stream",
     "text": [
      "                                                          \r"
     ]
    },
    {
     "name": "stdout",
     "output_type": "stream",
     "text": [
      "Epoch: 3/50, Train Loss: 0.4832, Train Acc: 0.7990, Valid Loss: 0.4789, Valid Acc: 0.7913, Test Loss: 0.4392, Test Acc: 0.8166\n"
     ]
    },
    {
     "name": "stderr",
     "output_type": "stream",
     "text": [
      "                                                          \r"
     ]
    },
    {
     "name": "stdout",
     "output_type": "stream",
     "text": [
      "Epoch: 4/50, Train Loss: 0.4623, Train Acc: 0.8122, Valid Loss: 0.4607, Valid Acc: 0.8016, Test Loss: 0.4228, Test Acc: 0.8236\n"
     ]
    },
    {
     "name": "stderr",
     "output_type": "stream",
     "text": [
      "                                                          \r"
     ]
    },
    {
     "name": "stdout",
     "output_type": "stream",
     "text": [
      "Epoch: 5/50, Train Loss: 0.4634, Train Acc: 0.8111, Valid Loss: 0.4603, Valid Acc: 0.8090, Test Loss: 0.4133, Test Acc: 0.8314\n"
     ]
    },
    {
     "name": "stderr",
     "output_type": "stream",
     "text": [
      "                                                          \r"
     ]
    },
    {
     "name": "stdout",
     "output_type": "stream",
     "text": [
      "Epoch: 6/50, Train Loss: 0.4683, Train Acc: 0.8044, Valid Loss: 0.4486, Valid Acc: 0.8122, Test Loss: 0.4087, Test Acc: 0.8335\n"
     ]
    },
    {
     "name": "stderr",
     "output_type": "stream",
     "text": [
      "                                                          \r"
     ]
    },
    {
     "name": "stdout",
     "output_type": "stream",
     "text": [
      "Epoch: 7/50, Train Loss: 0.4510, Train Acc: 0.8148, Valid Loss: 0.4385, Valid Acc: 0.8191, Test Loss: 0.4017, Test Acc: 0.8406\n"
     ]
    },
    {
     "name": "stderr",
     "output_type": "stream",
     "text": [
      "Batches:  53%|█████▎    | 100/187 [00:30<00:25,  3.39it/s]"
     ]
    }
   ],
   "source": [
    "from VGG16 import VGG16\n",
    "batch_size = 64\n",
    "train_samples = 10000\n",
    "\n",
    "vgg_transform = transforms.Compose([\n",
    "    transforms.ToTensor(),\n",
    "    transforms.Resize((224, 224))  # VGG models require 224x224 images\n",
    "])\n",
    "\n",
    "train_loader, valid_loader, test_loader = create_data_loaders(train_dirs, valid_dirs, test_dirs, \n",
    "                                                              batch_size, train_samples, vgg_transform)\n",
    "\n",
    "vgg_model = VGG16()\n",
    "\n",
    "\n",
    "\n",
    "vgg_lr = 0.0001\n",
    "criterion = nn.CrossEntropyLoss()\n",
    "vgg_optimizer = optim.Adam(vgg_model.parameters(), lr=vgg_lr)\n",
    "\n",
    "train_model(vgg_model, train_loader, valid_loader, test_loader, epochs=50, optimizer=vgg_optimizer,\n",
    "            criterion=criterion, title='VGG16', train_samples=train_samples, learning_rate=vgg_lr, batch_size=batch_size, patience=50)\n"
   ]
  },
  {
   "cell_type": "markdown",
   "metadata": {},
   "source": [
    "### InceptionV3"
   ]
  },
  {
   "cell_type": "code",
   "execution_count": 40,
   "metadata": {},
   "outputs": [
    {
     "name": "stderr",
     "output_type": "stream",
     "text": [
      "c:\\Users\\dgolden\\OneDrive - National University of Ireland, Galway\\Masters\\Semester 2\\CT5135 Research Topics in AI\\Assignment_2\\.venv\\lib\\site-packages\\torchvision\\models\\_utils.py:208: UserWarning: The parameter 'pretrained' is deprecated since 0.13 and may be removed in the future, please use 'weights' instead.\n",
      "  warnings.warn(\n",
      "c:\\Users\\dgolden\\OneDrive - National University of Ireland, Galway\\Masters\\Semester 2\\CT5135 Research Topics in AI\\Assignment_2\\.venv\\lib\\site-packages\\torchvision\\models\\_utils.py:223: UserWarning: Arguments other than a weight enum or `None` for 'weights' are deprecated since 0.13 and may be removed in the future. The current behavior is equivalent to passing `weights=Inception_V3_Weights.IMAGENET1K_V1`. You can also use `weights=Inception_V3_Weights.DEFAULT` to get the most up-to-date weights.\n",
      "  warnings.warn(msg)\n",
      "                                                        \r"
     ]
    },
    {
     "name": "stdout",
     "output_type": "stream",
     "text": [
      "Epoch: 0/50, Train Loss: 0.8038, Train Acc: 0.6786, Valid Loss: 0.6185, Valid Acc: 0.7386, Test Loss: 0.5605, Test Acc: 0.7658\n"
     ]
    },
    {
     "name": "stderr",
     "output_type": "stream",
     "text": [
      "                                                        \r"
     ]
    },
    {
     "name": "stdout",
     "output_type": "stream",
     "text": [
      "Epoch: 1/50, Train Loss: 0.5175, Train Acc: 0.7921, Valid Loss: 0.5288, Valid Acc: 0.7781, Test Loss: 0.4736, Test Acc: 0.8075\n"
     ]
    },
    {
     "name": "stderr",
     "output_type": "stream",
     "text": [
      "                                                        \r"
     ]
    },
    {
     "name": "stdout",
     "output_type": "stream",
     "text": [
      "Epoch: 2/50, Train Loss: 0.4904, Train Acc: 0.7988, Valid Loss: 0.4631, Valid Acc: 0.8073, Test Loss: 0.4278, Test Acc: 0.8270\n"
     ]
    },
    {
     "name": "stderr",
     "output_type": "stream",
     "text": [
      "                                                        \r"
     ]
    },
    {
     "name": "stdout",
     "output_type": "stream",
     "text": [
      "Epoch: 3/50, Train Loss: 0.4817, Train Acc: 0.8001, Valid Loss: 0.4508, Valid Acc: 0.8142, Test Loss: 0.3992, Test Acc: 0.8398\n"
     ]
    },
    {
     "name": "stderr",
     "output_type": "stream",
     "text": [
      "                                                        \r"
     ]
    },
    {
     "name": "stdout",
     "output_type": "stream",
     "text": [
      "Epoch: 4/50, Train Loss: 0.4605, Train Acc: 0.8152, Valid Loss: 0.4392, Valid Acc: 0.8195, Test Loss: 0.3923, Test Acc: 0.8456\n"
     ]
    },
    {
     "name": "stderr",
     "output_type": "stream",
     "text": [
      "                                                        \r"
     ]
    },
    {
     "name": "stdout",
     "output_type": "stream",
     "text": [
      "Epoch: 5/50, Train Loss: 0.4577, Train Acc: 0.8178, Valid Loss: 0.4374, Valid Acc: 0.8212, Test Loss: 0.3853, Test Acc: 0.8467\n"
     ]
    },
    {
     "name": "stderr",
     "output_type": "stream",
     "text": [
      "                                                        \r"
     ]
    },
    {
     "name": "stdout",
     "output_type": "stream",
     "text": [
      "Epoch: 6/50, Train Loss: 0.4665, Train Acc: 0.8094, Valid Loss: 0.4279, Valid Acc: 0.8265, Test Loss: 0.3807, Test Acc: 0.8503\n"
     ]
    },
    {
     "name": "stderr",
     "output_type": "stream",
     "text": [
      "                                                        \r"
     ]
    },
    {
     "name": "stdout",
     "output_type": "stream",
     "text": [
      "Epoch: 7/50, Train Loss: 0.4512, Train Acc: 0.8192, Valid Loss: 0.4330, Valid Acc: 0.8220, Test Loss: 0.3793, Test Acc: 0.8492\n"
     ]
    },
    {
     "name": "stderr",
     "output_type": "stream",
     "text": [
      "                                                        \r"
     ]
    },
    {
     "name": "stdout",
     "output_type": "stream",
     "text": [
      "Epoch: 8/50, Train Loss: 0.4454, Train Acc: 0.8219, Valid Loss: 0.4430, Valid Acc: 0.8214, Test Loss: 0.3794, Test Acc: 0.8459\n"
     ]
    },
    {
     "name": "stderr",
     "output_type": "stream",
     "text": [
      "                                                        \r"
     ]
    },
    {
     "name": "stdout",
     "output_type": "stream",
     "text": [
      "Epoch: 9/50, Train Loss: 0.4610, Train Acc: 0.8157, Valid Loss: 0.4295, Valid Acc: 0.8255, Test Loss: 0.3728, Test Acc: 0.8505\n"
     ]
    },
    {
     "name": "stderr",
     "output_type": "stream",
     "text": [
      "                                                        \r"
     ]
    },
    {
     "name": "stdout",
     "output_type": "stream",
     "text": [
      "Epoch: 10/50, Train Loss: 0.4646, Train Acc: 0.8159, Valid Loss: 0.4361, Valid Acc: 0.8238, Test Loss: 0.3804, Test Acc: 0.8487\n"
     ]
    },
    {
     "name": "stderr",
     "output_type": "stream",
     "text": [
      "                                                        \r"
     ]
    },
    {
     "name": "stdout",
     "output_type": "stream",
     "text": [
      "Epoch: 11/50, Train Loss: 0.4442, Train Acc: 0.8242, Valid Loss: 0.4547, Valid Acc: 0.8157, Test Loss: 0.3849, Test Acc: 0.8458\n"
     ]
    },
    {
     "name": "stderr",
     "output_type": "stream",
     "text": [
      "                                                        \r"
     ]
    },
    {
     "name": "stdout",
     "output_type": "stream",
     "text": [
      "Epoch: 12/50, Train Loss: 0.4550, Train Acc: 0.8200, Valid Loss: 0.4198, Valid Acc: 0.8277, Test Loss: 0.3670, Test Acc: 0.8525\n"
     ]
    },
    {
     "name": "stderr",
     "output_type": "stream",
     "text": [
      "                                                        \r"
     ]
    },
    {
     "name": "stdout",
     "output_type": "stream",
     "text": [
      "Epoch: 13/50, Train Loss: 0.4512, Train Acc: 0.8219, Valid Loss: 0.4429, Valid Acc: 0.8199, Test Loss: 0.3797, Test Acc: 0.8480\n"
     ]
    },
    {
     "name": "stderr",
     "output_type": "stream",
     "text": [
      "                                                        \r"
     ]
    },
    {
     "name": "stdout",
     "output_type": "stream",
     "text": [
      "Epoch: 14/50, Train Loss: 0.4605, Train Acc: 0.8130, Valid Loss: 0.4235, Valid Acc: 0.8278, Test Loss: 0.3696, Test Acc: 0.8529\n"
     ]
    },
    {
     "name": "stderr",
     "output_type": "stream",
     "text": [
      "                                                        \r"
     ]
    },
    {
     "name": "stdout",
     "output_type": "stream",
     "text": [
      "Epoch: 15/50, Train Loss: 0.4336, Train Acc: 0.8242, Valid Loss: 0.4110, Valid Acc: 0.8313, Test Loss: 0.3692, Test Acc: 0.8555\n"
     ]
    },
    {
     "name": "stderr",
     "output_type": "stream",
     "text": [
      "                                                        \r"
     ]
    },
    {
     "name": "stdout",
     "output_type": "stream",
     "text": [
      "Epoch: 16/50, Train Loss: 0.4362, Train Acc: 0.8222, Valid Loss: 0.4076, Valid Acc: 0.8339, Test Loss: 0.3585, Test Acc: 0.8580\n"
     ]
    },
    {
     "name": "stderr",
     "output_type": "stream",
     "text": [
      "                                                        \r"
     ]
    },
    {
     "name": "stdout",
     "output_type": "stream",
     "text": [
      "Epoch: 17/50, Train Loss: 0.4456, Train Acc: 0.8174, Valid Loss: 0.4126, Valid Acc: 0.8304, Test Loss: 0.3567, Test Acc: 0.8592\n"
     ]
    },
    {
     "name": "stderr",
     "output_type": "stream",
     "text": [
      "                                                        \r"
     ]
    },
    {
     "name": "stdout",
     "output_type": "stream",
     "text": [
      "Epoch: 18/50, Train Loss: 0.4327, Train Acc: 0.8240, Valid Loss: 0.4465, Valid Acc: 0.8167, Test Loss: 0.3806, Test Acc: 0.8455\n"
     ]
    },
    {
     "name": "stderr",
     "output_type": "stream",
     "text": [
      "                                                        \r"
     ]
    },
    {
     "name": "stdout",
     "output_type": "stream",
     "text": [
      "Epoch: 19/50, Train Loss: 0.4223, Train Acc: 0.8289, Valid Loss: 0.4179, Valid Acc: 0.8306, Test Loss: 0.3599, Test Acc: 0.8557\n"
     ]
    },
    {
     "name": "stderr",
     "output_type": "stream",
     "text": [
      "                                                        \r"
     ]
    },
    {
     "name": "stdout",
     "output_type": "stream",
     "text": [
      "Epoch: 20/50, Train Loss: 0.4385, Train Acc: 0.8223, Valid Loss: 0.3989, Valid Acc: 0.8363, Test Loss: 0.3503, Test Acc: 0.8660\n"
     ]
    },
    {
     "name": "stderr",
     "output_type": "stream",
     "text": [
      "                                                        \r"
     ]
    },
    {
     "ename": "KeyboardInterrupt",
     "evalue": "",
     "output_type": "error",
     "traceback": [
      "\u001b[1;31m---------------------------------------------------------------------------\u001b[0m",
      "\u001b[1;31mKeyboardInterrupt\u001b[0m                         Traceback (most recent call last)",
      "Cell \u001b[1;32mIn[40], line 22\u001b[0m\n\u001b[0;32m     19\u001b[0m criterion \u001b[38;5;241m=\u001b[39m nn\u001b[38;5;241m.\u001b[39mCrossEntropyLoss()\n\u001b[0;32m     20\u001b[0m inception_optimizer \u001b[38;5;241m=\u001b[39m optim\u001b[38;5;241m.\u001b[39mAdam(\u001b[38;5;28mfilter\u001b[39m(\u001b[38;5;28;01mlambda\u001b[39;00m p: p\u001b[38;5;241m.\u001b[39mrequires_grad, inceptionV3_model\u001b[38;5;241m.\u001b[39mparameters()),inception_lr)\n\u001b[1;32m---> 22\u001b[0m \u001b[43mtrain_model\u001b[49m\u001b[43m(\u001b[49m\u001b[43minceptionV3_model\u001b[49m\u001b[43m,\u001b[49m\u001b[43mtrain_loader\u001b[49m\u001b[43m,\u001b[49m\u001b[43mvalid_loader\u001b[49m\u001b[43m,\u001b[49m\u001b[43mtest_loader\u001b[49m\u001b[43m,\u001b[49m\u001b[38;5;241;43m50\u001b[39;49m\u001b[43m,\u001b[49m\u001b[43minception_optimizer\u001b[49m\u001b[43m,\u001b[49m\n\u001b[0;32m     23\u001b[0m \u001b[43m            \u001b[49m\u001b[43mcriterion\u001b[49m\u001b[43m,\u001b[49m\u001b[38;5;124;43m'\u001b[39;49m\u001b[38;5;124;43mInceptionV3\u001b[39;49m\u001b[38;5;124;43m'\u001b[39;49m\u001b[43m,\u001b[49m\u001b[43m \u001b[49m\u001b[43mtrain_samples\u001b[49m\u001b[43m,\u001b[49m\u001b[43minception_lr\u001b[49m\u001b[43m,\u001b[49m\u001b[43m \u001b[49m\u001b[43mbatch_size\u001b[49m\u001b[43m,\u001b[49m\u001b[43m \u001b[49m\u001b[38;5;241;43m50\u001b[39;49m\u001b[43m)\u001b[49m\n",
      "Cell \u001b[1;32mIn[31], line 44\u001b[0m, in \u001b[0;36mtrain_model\u001b[1;34m(model, train_loader, valid_loader, test_loader, epochs, optimizer, criterion, title, train_samples, learning_rate, batch_size, patience)\u001b[0m\n\u001b[0;32m     42\u001b[0m loss\u001b[38;5;241m.\u001b[39mbackward()\n\u001b[0;32m     43\u001b[0m optimizer\u001b[38;5;241m.\u001b[39mstep()\n\u001b[1;32m---> 44\u001b[0m train_loss \u001b[38;5;241m+\u001b[39m\u001b[38;5;241m=\u001b[39m \u001b[43mloss\u001b[49m\u001b[38;5;241;43m.\u001b[39;49m\u001b[43mitem\u001b[49m\u001b[43m(\u001b[49m\u001b[43m)\u001b[49m \u001b[38;5;241m*\u001b[39m images\u001b[38;5;241m.\u001b[39msize(\u001b[38;5;241m0\u001b[39m)\n\u001b[0;32m     45\u001b[0m _, predicted \u001b[38;5;241m=\u001b[39m torch\u001b[38;5;241m.\u001b[39mmax(outputs\u001b[38;5;241m.\u001b[39mdata, \u001b[38;5;241m1\u001b[39m)\n\u001b[0;32m     46\u001b[0m train_correct \u001b[38;5;241m+\u001b[39m\u001b[38;5;241m=\u001b[39m (predicted \u001b[38;5;241m==\u001b[39m labels)\u001b[38;5;241m.\u001b[39msum()\u001b[38;5;241m.\u001b[39mitem()\n",
      "\u001b[1;31mKeyboardInterrupt\u001b[0m: "
     ]
    }
   ],
   "source": [
    "from Inception_v3 import Inceptionv3\n",
    "\n",
    "batch_size = 128\n",
    "# train_samples = 100000 # total number of samples in the train set\n",
    "train_samples = 10000\n",
    "\n",
    "inception_transform = transforms.Compose([\n",
    "    transforms.ToTensor(),\n",
    "    transforms.Resize((299, 299))\n",
    "    \n",
    "])\n",
    "\n",
    "train_loader, valid_loader, test_loader = create_data_loaders(train_dirs, valid_dirs, test_dirs, \n",
    "                                                              batch_size, train_samples,inception_transform)\n",
    "\n",
    "inceptionV3_model = Inceptionv3()\n",
    "\n",
    "inception_lr = 0.0001\n",
    "criterion = nn.CrossEntropyLoss()\n",
    "inception_optimizer = optim.Adam(filter(lambda p: p.requires_grad, inceptionV3_model.parameters()),inception_lr)\n",
    "\n",
    "train_model(inceptionV3_model,train_loader,valid_loader,test_loader,50,inception_optimizer,\n",
    "            criterion,'InceptionV3', train_samples,inception_lr, batch_size, 50)"
   ]
  },
  {
   "cell_type": "markdown",
   "metadata": {},
   "source": [
    "### ResNet18 "
   ]
  },
  {
   "cell_type": "code",
   "execution_count": 33,
   "metadata": {},
   "outputs": [
    {
     "name": "stderr",
     "output_type": "stream",
     "text": [
      "                                                          \r"
     ]
    },
    {
     "name": "stdout",
     "output_type": "stream",
     "text": [
      "Epoch: 0/50, Train Loss: 0.6473, Train Acc: 0.7697, Valid Loss: 0.4192, Valid Acc: 0.8415, Test Loss: 0.3863, Test Acc: 0.8660\n"
     ]
    },
    {
     "name": "stderr",
     "output_type": "stream",
     "text": [
      "                                                          \r"
     ]
    },
    {
     "name": "stdout",
     "output_type": "stream",
     "text": [
      "Epoch: 1/50, Train Loss: 0.3139, Train Acc: 0.8848, Valid Loss: 0.3015, Valid Acc: 0.8813, Test Loss: 0.2675, Test Acc: 0.9017\n"
     ]
    },
    {
     "name": "stderr",
     "output_type": "stream",
     "text": [
      "                                                          \r"
     ]
    },
    {
     "name": "stdout",
     "output_type": "stream",
     "text": [
      "Epoch: 2/50, Train Loss: 0.2469, Train Acc: 0.9083, Valid Loss: 0.2709, Valid Acc: 0.8933, Test Loss: 0.2319, Test Acc: 0.9147\n"
     ]
    },
    {
     "name": "stderr",
     "output_type": "stream",
     "text": [
      "                                                          \r"
     ]
    },
    {
     "name": "stdout",
     "output_type": "stream",
     "text": [
      "Epoch: 3/50, Train Loss: 0.2191, Train Acc: 0.9193, Valid Loss: 0.2417, Valid Acc: 0.9033, Test Loss: 0.2111, Test Acc: 0.9232\n"
     ]
    },
    {
     "name": "stderr",
     "output_type": "stream",
     "text": [
      "                                                          \r"
     ]
    },
    {
     "name": "stdout",
     "output_type": "stream",
     "text": [
      "Epoch: 4/50, Train Loss: 0.2013, Train Acc: 0.9237, Valid Loss: 0.2254, Valid Acc: 0.9102, Test Loss: 0.1949, Test Acc: 0.9300\n"
     ]
    },
    {
     "name": "stderr",
     "output_type": "stream",
     "text": [
      "                                                          \r"
     ]
    },
    {
     "name": "stdout",
     "output_type": "stream",
     "text": [
      "Epoch: 5/50, Train Loss: 0.1859, Train Acc: 0.9286, Valid Loss: 0.2057, Valid Acc: 0.9195, Test Loss: 0.1846, Test Acc: 0.9341\n"
     ]
    },
    {
     "name": "stderr",
     "output_type": "stream",
     "text": [
      "                                                          \r"
     ]
    },
    {
     "name": "stdout",
     "output_type": "stream",
     "text": [
      "Epoch: 6/50, Train Loss: 0.1709, Train Acc: 0.9370, Valid Loss: 0.2011, Valid Acc: 0.9200, Test Loss: 0.1734, Test Acc: 0.9373\n"
     ]
    },
    {
     "name": "stderr",
     "output_type": "stream",
     "text": [
      "                                                          \r"
     ]
    },
    {
     "name": "stdout",
     "output_type": "stream",
     "text": [
      "Epoch: 7/50, Train Loss: 0.1623, Train Acc: 0.9401, Valid Loss: 0.1879, Valid Acc: 0.9262, Test Loss: 0.1655, Test Acc: 0.9385\n"
     ]
    },
    {
     "name": "stderr",
     "output_type": "stream",
     "text": [
      "                                                          \r"
     ]
    },
    {
     "name": "stdout",
     "output_type": "stream",
     "text": [
      "Epoch: 8/50, Train Loss: 0.1529, Train Acc: 0.9425, Valid Loss: 0.1826, Valid Acc: 0.9294, Test Loss: 0.1601, Test Acc: 0.9406\n"
     ]
    },
    {
     "name": "stderr",
     "output_type": "stream",
     "text": [
      "                                                          \r"
     ]
    },
    {
     "name": "stdout",
     "output_type": "stream",
     "text": [
      "Epoch: 9/50, Train Loss: 0.1432, Train Acc: 0.9469, Valid Loss: 0.1763, Valid Acc: 0.9326, Test Loss: 0.1514, Test Acc: 0.9452\n"
     ]
    },
    {
     "name": "stderr",
     "output_type": "stream",
     "text": [
      "                                                          \r"
     ]
    },
    {
     "name": "stdout",
     "output_type": "stream",
     "text": [
      "Epoch: 10/50, Train Loss: 0.1337, Train Acc: 0.9516, Valid Loss: 0.1653, Valid Acc: 0.9358, Test Loss: 0.1498, Test Acc: 0.9443\n"
     ]
    },
    {
     "name": "stderr",
     "output_type": "stream",
     "text": [
      "                                                          \r"
     ]
    },
    {
     "name": "stdout",
     "output_type": "stream",
     "text": [
      "Epoch: 11/50, Train Loss: 0.1295, Train Acc: 0.9523, Valid Loss: 0.1602, Valid Acc: 0.9394, Test Loss: 0.1439, Test Acc: 0.9454\n"
     ]
    },
    {
     "name": "stderr",
     "output_type": "stream",
     "text": [
      "                                                          \r"
     ]
    },
    {
     "name": "stdout",
     "output_type": "stream",
     "text": [
      "Epoch: 12/50, Train Loss: 0.1207, Train Acc: 0.9548, Valid Loss: 0.1591, Valid Acc: 0.9396, Test Loss: 0.1411, Test Acc: 0.9481\n"
     ]
    },
    {
     "name": "stderr",
     "output_type": "stream",
     "text": [
      "                                                          \r"
     ]
    },
    {
     "name": "stdout",
     "output_type": "stream",
     "text": [
      "Epoch: 13/50, Train Loss: 0.1157, Train Acc: 0.9574, Valid Loss: 0.1515, Valid Acc: 0.9427, Test Loss: 0.1374, Test Acc: 0.9475\n"
     ]
    },
    {
     "name": "stderr",
     "output_type": "stream",
     "text": [
      "                                                          \r"
     ]
    },
    {
     "name": "stdout",
     "output_type": "stream",
     "text": [
      "Epoch: 14/50, Train Loss: 0.1103, Train Acc: 0.9594, Valid Loss: 0.1471, Valid Acc: 0.9431, Test Loss: 0.1352, Test Acc: 0.9503\n"
     ]
    },
    {
     "name": "stderr",
     "output_type": "stream",
     "text": [
      "                                                          \r"
     ]
    },
    {
     "name": "stdout",
     "output_type": "stream",
     "text": [
      "Epoch: 15/50, Train Loss: 0.1041, Train Acc: 0.9630, Valid Loss: 0.1438, Valid Acc: 0.9457, Test Loss: 0.1331, Test Acc: 0.9502\n"
     ]
    },
    {
     "name": "stderr",
     "output_type": "stream",
     "text": [
      "                                                          \r"
     ]
    },
    {
     "name": "stdout",
     "output_type": "stream",
     "text": [
      "Epoch: 16/50, Train Loss: 0.1005, Train Acc: 0.9651, Valid Loss: 0.1481, Valid Acc: 0.9450, Test Loss: 0.1334, Test Acc: 0.9505\n"
     ]
    },
    {
     "name": "stderr",
     "output_type": "stream",
     "text": [
      "                                                          \r"
     ]
    },
    {
     "name": "stdout",
     "output_type": "stream",
     "text": [
      "Epoch: 17/50, Train Loss: 0.0977, Train Acc: 0.9656, Valid Loss: 0.1432, Valid Acc: 0.9468, Test Loss: 0.1304, Test Acc: 0.9525\n"
     ]
    },
    {
     "name": "stderr",
     "output_type": "stream",
     "text": [
      "                                                          \r"
     ]
    },
    {
     "name": "stdout",
     "output_type": "stream",
     "text": [
      "Epoch: 18/50, Train Loss: 0.0921, Train Acc: 0.9675, Valid Loss: 0.1353, Valid Acc: 0.9496, Test Loss: 0.1261, Test Acc: 0.9552\n"
     ]
    },
    {
     "name": "stderr",
     "output_type": "stream",
     "text": [
      "                                                          \r"
     ]
    },
    {
     "name": "stdout",
     "output_type": "stream",
     "text": [
      "Epoch: 19/50, Train Loss: 0.0864, Train Acc: 0.9673, Valid Loss: 0.1375, Valid Acc: 0.9485, Test Loss: 0.1310, Test Acc: 0.9521\n"
     ]
    },
    {
     "name": "stderr",
     "output_type": "stream",
     "text": [
      "                                                          \r"
     ]
    },
    {
     "name": "stdout",
     "output_type": "stream",
     "text": [
      "Epoch: 20/50, Train Loss: 0.0858, Train Acc: 0.9698, Valid Loss: 0.1392, Valid Acc: 0.9483, Test Loss: 0.1280, Test Acc: 0.9531\n"
     ]
    },
    {
     "name": "stderr",
     "output_type": "stream",
     "text": [
      "                                                          \r"
     ]
    },
    {
     "name": "stdout",
     "output_type": "stream",
     "text": [
      "Epoch: 21/50, Train Loss: 0.0810, Train Acc: 0.9705, Valid Loss: 0.1337, Valid Acc: 0.9511, Test Loss: 0.1288, Test Acc: 0.9525\n"
     ]
    },
    {
     "name": "stderr",
     "output_type": "stream",
     "text": [
      "                                                          \r"
     ]
    },
    {
     "name": "stdout",
     "output_type": "stream",
     "text": [
      "Epoch: 22/50, Train Loss: 0.0790, Train Acc: 0.9736, Valid Loss: 0.1304, Valid Acc: 0.9515, Test Loss: 0.1231, Test Acc: 0.9552\n"
     ]
    },
    {
     "name": "stderr",
     "output_type": "stream",
     "text": [
      "                                                          \r"
     ]
    },
    {
     "name": "stdout",
     "output_type": "stream",
     "text": [
      "Epoch: 23/50, Train Loss: 0.0746, Train Acc: 0.9740, Valid Loss: 0.1350, Valid Acc: 0.9514, Test Loss: 0.1251, Test Acc: 0.9562\n"
     ]
    },
    {
     "name": "stderr",
     "output_type": "stream",
     "text": [
      "                                                          \r"
     ]
    },
    {
     "name": "stdout",
     "output_type": "stream",
     "text": [
      "Epoch: 24/50, Train Loss: 0.0702, Train Acc: 0.9755, Valid Loss: 0.1249, Valid Acc: 0.9545, Test Loss: 0.1211, Test Acc: 0.9566\n"
     ]
    },
    {
     "name": "stderr",
     "output_type": "stream",
     "text": [
      "                                                          \r"
     ]
    },
    {
     "name": "stdout",
     "output_type": "stream",
     "text": [
      "Epoch: 25/50, Train Loss: 0.0693, Train Acc: 0.9760, Valid Loss: 0.1291, Valid Acc: 0.9539, Test Loss: 0.1282, Test Acc: 0.9549\n"
     ]
    },
    {
     "name": "stderr",
     "output_type": "stream",
     "text": [
      "                                                          \r"
     ]
    },
    {
     "name": "stdout",
     "output_type": "stream",
     "text": [
      "Epoch: 26/50, Train Loss: 0.0692, Train Acc: 0.9755, Valid Loss: 0.1238, Valid Acc: 0.9558, Test Loss: 0.1206, Test Acc: 0.9594\n"
     ]
    },
    {
     "name": "stderr",
     "output_type": "stream",
     "text": [
      "                                                          \r"
     ]
    },
    {
     "name": "stdout",
     "output_type": "stream",
     "text": [
      "Epoch: 27/50, Train Loss: 0.0628, Train Acc: 0.9794, Valid Loss: 0.1248, Valid Acc: 0.9544, Test Loss: 0.1224, Test Acc: 0.9577\n"
     ]
    },
    {
     "name": "stderr",
     "output_type": "stream",
     "text": [
      "                                                          \r"
     ]
    },
    {
     "name": "stdout",
     "output_type": "stream",
     "text": [
      "Epoch: 28/50, Train Loss: 0.0632, Train Acc: 0.9774, Valid Loss: 0.1252, Valid Acc: 0.9549, Test Loss: 0.1213, Test Acc: 0.9573\n"
     ]
    },
    {
     "name": "stderr",
     "output_type": "stream",
     "text": [
      "                                                          \r"
     ]
    },
    {
     "name": "stdout",
     "output_type": "stream",
     "text": [
      "Epoch: 29/50, Train Loss: 0.0554, Train Acc: 0.9808, Valid Loss: 0.1256, Valid Acc: 0.9553, Test Loss: 0.1171, Test Acc: 0.9593\n"
     ]
    },
    {
     "name": "stderr",
     "output_type": "stream",
     "text": [
      "                                                          \r"
     ]
    },
    {
     "name": "stdout",
     "output_type": "stream",
     "text": [
      "Epoch: 30/50, Train Loss: 0.0517, Train Acc: 0.9829, Valid Loss: 0.1253, Valid Acc: 0.9560, Test Loss: 0.1199, Test Acc: 0.9594\n"
     ]
    },
    {
     "name": "stderr",
     "output_type": "stream",
     "text": [
      "                                                          \r"
     ]
    },
    {
     "name": "stdout",
     "output_type": "stream",
     "text": [
      "Epoch: 31/50, Train Loss: 0.0511, Train Acc: 0.9829, Valid Loss: 0.1257, Valid Acc: 0.9560, Test Loss: 0.1161, Test Acc: 0.9588\n"
     ]
    },
    {
     "name": "stderr",
     "output_type": "stream",
     "text": [
      "                                                          \r"
     ]
    },
    {
     "name": "stdout",
     "output_type": "stream",
     "text": [
      "Epoch: 32/50, Train Loss: 0.0496, Train Acc: 0.9832, Valid Loss: 0.1312, Valid Acc: 0.9541, Test Loss: 0.1213, Test Acc: 0.9597\n"
     ]
    },
    {
     "name": "stderr",
     "output_type": "stream",
     "text": [
      "                                                          \r"
     ]
    },
    {
     "name": "stdout",
     "output_type": "stream",
     "text": [
      "Epoch: 33/50, Train Loss: 0.0449, Train Acc: 0.9850, Valid Loss: 0.1288, Valid Acc: 0.9561, Test Loss: 0.1224, Test Acc: 0.9581\n"
     ]
    },
    {
     "name": "stderr",
     "output_type": "stream",
     "text": [
      "                                                          \r"
     ]
    },
    {
     "name": "stdout",
     "output_type": "stream",
     "text": [
      "Epoch: 34/50, Train Loss: 0.0490, Train Acc: 0.9837, Valid Loss: 0.1276, Valid Acc: 0.9557, Test Loss: 0.1178, Test Acc: 0.9594\n"
     ]
    },
    {
     "name": "stderr",
     "output_type": "stream",
     "text": [
      "                                                          \r"
     ]
    },
    {
     "name": "stdout",
     "output_type": "stream",
     "text": [
      "Epoch: 35/50, Train Loss: 0.0463, Train Acc: 0.9845, Valid Loss: 0.1271, Valid Acc: 0.9557, Test Loss: 0.1208, Test Acc: 0.9587\n"
     ]
    },
    {
     "name": "stderr",
     "output_type": "stream",
     "text": [
      "                                                          \r"
     ]
    },
    {
     "name": "stdout",
     "output_type": "stream",
     "text": [
      "Epoch: 36/50, Train Loss: 0.0448, Train Acc: 0.9853, Valid Loss: 0.1298, Valid Acc: 0.9557, Test Loss: 0.1265, Test Acc: 0.9582\n"
     ]
    },
    {
     "name": "stderr",
     "output_type": "stream",
     "text": [
      "                                                          \r"
     ]
    },
    {
     "name": "stdout",
     "output_type": "stream",
     "text": [
      "Epoch: 37/50, Train Loss: 0.0396, Train Acc: 0.9862, Valid Loss: 0.1193, Valid Acc: 0.9588, Test Loss: 0.1173, Test Acc: 0.9613\n"
     ]
    },
    {
     "name": "stderr",
     "output_type": "stream",
     "text": [
      "                                                          \r"
     ]
    },
    {
     "name": "stdout",
     "output_type": "stream",
     "text": [
      "Epoch: 38/50, Train Loss: 0.0390, Train Acc: 0.9873, Valid Loss: 0.1245, Valid Acc: 0.9586, Test Loss: 0.1253, Test Acc: 0.9591\n"
     ]
    },
    {
     "name": "stderr",
     "output_type": "stream",
     "text": [
      "                                                          \r"
     ]
    },
    {
     "name": "stdout",
     "output_type": "stream",
     "text": [
      "Epoch: 39/50, Train Loss: 0.0395, Train Acc: 0.9860, Valid Loss: 0.1269, Valid Acc: 0.9581, Test Loss: 0.1249, Test Acc: 0.9585\n"
     ]
    },
    {
     "name": "stderr",
     "output_type": "stream",
     "text": [
      "                                                          \r"
     ]
    },
    {
     "name": "stdout",
     "output_type": "stream",
     "text": [
      "Epoch: 40/50, Train Loss: 0.0361, Train Acc: 0.9879, Valid Loss: 0.1262, Valid Acc: 0.9573, Test Loss: 0.1238, Test Acc: 0.9606\n"
     ]
    },
    {
     "name": "stderr",
     "output_type": "stream",
     "text": [
      "                                                          \r"
     ]
    },
    {
     "name": "stdout",
     "output_type": "stream",
     "text": [
      "Epoch: 41/50, Train Loss: 0.0337, Train Acc: 0.9889, Valid Loss: 0.1256, Valid Acc: 0.9582, Test Loss: 0.1256, Test Acc: 0.9601\n"
     ]
    },
    {
     "name": "stderr",
     "output_type": "stream",
     "text": [
      "                                                          \r"
     ]
    },
    {
     "name": "stdout",
     "output_type": "stream",
     "text": [
      "Epoch: 42/50, Train Loss: 0.0337, Train Acc: 0.9887, Valid Loss: 0.1314, Valid Acc: 0.9563, Test Loss: 0.1275, Test Acc: 0.9595\n"
     ]
    },
    {
     "name": "stderr",
     "output_type": "stream",
     "text": [
      "                                                          \r"
     ]
    },
    {
     "name": "stdout",
     "output_type": "stream",
     "text": [
      "Epoch: 43/50, Train Loss: 0.0341, Train Acc: 0.9891, Valid Loss: 0.1397, Valid Acc: 0.9556, Test Loss: 0.1370, Test Acc: 0.9566\n"
     ]
    },
    {
     "name": "stderr",
     "output_type": "stream",
     "text": [
      "                                                          \r"
     ]
    },
    {
     "name": "stdout",
     "output_type": "stream",
     "text": [
      "Epoch: 44/50, Train Loss: 0.0369, Train Acc: 0.9870, Valid Loss: 0.1266, Valid Acc: 0.9582, Test Loss: 0.1219, Test Acc: 0.9624\n"
     ]
    },
    {
     "name": "stderr",
     "output_type": "stream",
     "text": [
      "                                                          \r"
     ]
    },
    {
     "name": "stdout",
     "output_type": "stream",
     "text": [
      "Epoch: 45/50, Train Loss: 0.0288, Train Acc: 0.9896, Valid Loss: 0.1323, Valid Acc: 0.9583, Test Loss: 0.1250, Test Acc: 0.9609\n"
     ]
    },
    {
     "name": "stderr",
     "output_type": "stream",
     "text": [
      "                                                          \r"
     ]
    },
    {
     "name": "stdout",
     "output_type": "stream",
     "text": [
      "Epoch: 46/50, Train Loss: 0.0291, Train Acc: 0.9907, Valid Loss: 0.1365, Valid Acc: 0.9569, Test Loss: 0.1322, Test Acc: 0.9599\n"
     ]
    },
    {
     "name": "stderr",
     "output_type": "stream",
     "text": [
      "                                                          \r"
     ]
    },
    {
     "name": "stdout",
     "output_type": "stream",
     "text": [
      "Epoch: 47/50, Train Loss: 0.0282, Train Acc: 0.9909, Valid Loss: 0.1326, Valid Acc: 0.9585, Test Loss: 0.1274, Test Acc: 0.9616\n"
     ]
    },
    {
     "name": "stderr",
     "output_type": "stream",
     "text": [
      "                                                          \r"
     ]
    },
    {
     "name": "stdout",
     "output_type": "stream",
     "text": [
      "Epoch: 48/50, Train Loss: 0.0237, Train Acc: 0.9923, Valid Loss: 0.1338, Valid Acc: 0.9593, Test Loss: 0.1324, Test Acc: 0.9601\n"
     ]
    },
    {
     "name": "stderr",
     "output_type": "stream",
     "text": [
      "                                                          \r"
     ]
    },
    {
     "name": "stdout",
     "output_type": "stream",
     "text": [
      "Epoch: 49/50, Train Loss: 0.0256, Train Acc: 0.9929, Valid Loss: 0.1325, Valid Acc: 0.9600, Test Loss: 0.1310, Test Acc: 0.9602\n"
     ]
    },
    {
     "data": {
      "image/png": "[encoded data removed]",
      "text/plain": [
       "<Figure size 1000x500 with 2 Axes>"
      ]
     },
     "metadata": {},
     "output_type": "display_data"
    }
   ],
   "source": [
    "from ResNet18 import ResNet18  # Import your custom ResNet18 class\n",
    "\n",
    "batch_size = 128\n",
    "train_samples = 20000  \n",
    "# # Assuming you have defined the transformation for ResNet model\n",
    "resnet_transform = transforms.Compose([\n",
    "    transforms.ToTensor(),\n",
    "    transforms.Resize((224, 224))\n",
    "])\n",
    "\n",
    "train_loader, valid_loader, test_loader = create_data_loaders(train_dirs, valid_dirs, test_dirs, \n",
    "                                                              batch_size, train_samples)\n",
    "\n",
    "resnet_model = ResNet18(num_classes=3)  # Instantiate your custom ResNet18 model\n",
    "\n",
    "resnet_lr = 0.00001\n",
    "criterion = nn.CrossEntropyLoss()\n",
    "resnet_optimizer = optim.Adam(resnet_model.parameters(), lr=resnet_lr)\n",
    "\n",
    "train_model(resnet_model, train_loader, valid_loader, test_loader, epochs=50, optimizer=resnet_optimizer,\n",
    "            criterion=criterion, title='ResNet18', train_samples=train_samples,\n",
    "            learning_rate=resnet_lr, batch_size=batch_size, patience=50)"
   ]
  },
  {
   "cell_type": "markdown",
   "metadata": {},
   "source": [
    "### RCNet"
   ]
  },
  {
   "cell_type": "code",
   "execution_count": 35,
   "metadata": {},
   "outputs": [
    {
     "name": "stderr",
     "output_type": "stream",
     "text": [
      "                                                          \r"
     ]
    },
    {
     "name": "stdout",
     "output_type": "stream",
     "text": [
      "Epoch: 0/50, Train Loss: 0.8175, Train Acc: 0.6085, Valid Loss: 1.2570, Valid Acc: 0.4796, Test Loss: 1.1474, Test Acc: 0.4931\n"
     ]
    },
    {
     "name": "stderr",
     "output_type": "stream",
     "text": [
      "                                                          \r"
     ]
    },
    {
     "name": "stdout",
     "output_type": "stream",
     "text": [
      "Epoch: 1/50, Train Loss: 0.5117, Train Acc: 0.7962, Valid Loss: 0.5644, Valid Acc: 0.7424, Test Loss: 0.5612, Test Acc: 0.7434\n"
     ]
    },
    {
     "name": "stderr",
     "output_type": "stream",
     "text": [
      "                                                          \r"
     ]
    },
    {
     "name": "stdout",
     "output_type": "stream",
     "text": [
      "Epoch: 2/50, Train Loss: 0.4569, Train Acc: 0.8230, Valid Loss: 0.4838, Valid Acc: 0.7974, Test Loss: 0.4820, Test Acc: 0.8105\n"
     ]
    },
    {
     "name": "stderr",
     "output_type": "stream",
     "text": [
      "                                                          \r"
     ]
    },
    {
     "name": "stdout",
     "output_type": "stream",
     "text": [
      "Epoch: 3/50, Train Loss: 0.4274, Train Acc: 0.8364, Valid Loss: 0.6619, Valid Acc: 0.6930, Test Loss: 0.6697, Test Acc: 0.6906\n"
     ]
    },
    {
     "name": "stderr",
     "output_type": "stream",
     "text": [
      "                                                          \r"
     ]
    },
    {
     "name": "stdout",
     "output_type": "stream",
     "text": [
      "Epoch: 4/50, Train Loss: 0.4150, Train Acc: 0.8399, Valid Loss: 0.7369, Valid Acc: 0.7235, Test Loss: 0.6813, Test Acc: 0.7378\n"
     ]
    },
    {
     "name": "stderr",
     "output_type": "stream",
     "text": [
      "                                                          \r"
     ]
    },
    {
     "name": "stdout",
     "output_type": "stream",
     "text": [
      "Epoch: 5/50, Train Loss: 0.3856, Train Acc: 0.8508, Valid Loss: 0.5644, Valid Acc: 0.7430, Test Loss: 0.5493, Test Acc: 0.7439\n"
     ]
    },
    {
     "name": "stderr",
     "output_type": "stream",
     "text": [
      "                                                          \r"
     ]
    },
    {
     "name": "stdout",
     "output_type": "stream",
     "text": [
      "Epoch: 6/50, Train Loss: 0.3604, Train Acc: 0.8625, Valid Loss: 1.0256, Valid Acc: 0.6579, Test Loss: 0.9309, Test Acc: 0.6676\n"
     ]
    },
    {
     "name": "stderr",
     "output_type": "stream",
     "text": [
      "                                                          \r"
     ]
    },
    {
     "name": "stdout",
     "output_type": "stream",
     "text": [
      "Epoch: 7/50, Train Loss: 0.3516, Train Acc: 0.8643, Valid Loss: 0.6886, Valid Acc: 0.7161, Test Loss: 0.6447, Test Acc: 0.7426\n"
     ]
    },
    {
     "name": "stderr",
     "output_type": "stream",
     "text": [
      "                                                          \r"
     ]
    },
    {
     "name": "stdout",
     "output_type": "stream",
     "text": [
      "Epoch: 8/50, Train Loss: 0.3406, Train Acc: 0.8699, Valid Loss: 0.4060, Valid Acc: 0.8238, Test Loss: 0.4013, Test Acc: 0.8267\n"
     ]
    },
    {
     "name": "stderr",
     "output_type": "stream",
     "text": [
      "                                                          \r"
     ]
    },
    {
     "name": "stdout",
     "output_type": "stream",
     "text": [
      "Epoch: 9/50, Train Loss: 0.3182, Train Acc: 0.8799, Valid Loss: 0.3839, Valid Acc: 0.8520, Test Loss: 0.3421, Test Acc: 0.8789\n"
     ]
    },
    {
     "name": "stderr",
     "output_type": "stream",
     "text": [
      "                                                          \r"
     ]
    },
    {
     "name": "stdout",
     "output_type": "stream",
     "text": [
      "Epoch: 10/50, Train Loss: 0.3076, Train Acc: 0.8843, Valid Loss: 0.3421, Valid Acc: 0.8594, Test Loss: 0.2963, Test Acc: 0.8875\n"
     ]
    },
    {
     "name": "stderr",
     "output_type": "stream",
     "text": [
      "                                                          \r"
     ]
    },
    {
     "name": "stdout",
     "output_type": "stream",
     "text": [
      "Epoch: 11/50, Train Loss: 0.3036, Train Acc: 0.8845, Valid Loss: 0.3313, Valid Acc: 0.8668, Test Loss: 0.3105, Test Acc: 0.8841\n"
     ]
    },
    {
     "name": "stderr",
     "output_type": "stream",
     "text": [
      "                                                          \r"
     ]
    },
    {
     "name": "stdout",
     "output_type": "stream",
     "text": [
      "Epoch: 12/50, Train Loss: 0.2828, Train Acc: 0.8910, Valid Loss: 0.3930, Valid Acc: 0.8335, Test Loss: 0.3345, Test Acc: 0.8697\n"
     ]
    },
    {
     "name": "stderr",
     "output_type": "stream",
     "text": [
      "                                                          \r"
     ]
    },
    {
     "name": "stdout",
     "output_type": "stream",
     "text": [
      "Epoch: 13/50, Train Loss: 0.2787, Train Acc: 0.8930, Valid Loss: 0.3242, Valid Acc: 0.8714, Test Loss: 0.3016, Test Acc: 0.8875\n"
     ]
    },
    {
     "name": "stderr",
     "output_type": "stream",
     "text": [
      "                                                          \r"
     ]
    },
    {
     "name": "stdout",
     "output_type": "stream",
     "text": [
      "Epoch: 14/50, Train Loss: 0.2738, Train Acc: 0.8950, Valid Loss: 0.3856, Valid Acc: 0.8462, Test Loss: 0.3649, Test Acc: 0.8566\n"
     ]
    },
    {
     "name": "stderr",
     "output_type": "stream",
     "text": [
      "                                                          \r"
     ]
    },
    {
     "name": "stdout",
     "output_type": "stream",
     "text": [
      "Epoch: 15/50, Train Loss: 0.2790, Train Acc: 0.8962, Valid Loss: 0.5525, Valid Acc: 0.7594, Test Loss: 0.5037, Test Acc: 0.7842\n"
     ]
    },
    {
     "name": "stderr",
     "output_type": "stream",
     "text": [
      "                                                          \r"
     ]
    },
    {
     "name": "stdout",
     "output_type": "stream",
     "text": [
      "Epoch: 16/50, Train Loss: 0.2649, Train Acc: 0.9016, Valid Loss: 0.3594, Valid Acc: 0.8569, Test Loss: 0.3390, Test Acc: 0.8708\n"
     ]
    },
    {
     "name": "stderr",
     "output_type": "stream",
     "text": [
      "                                                          \r"
     ]
    },
    {
     "name": "stdout",
     "output_type": "stream",
     "text": [
      "Epoch: 17/50, Train Loss: 0.2604, Train Acc: 0.9022, Valid Loss: 0.4351, Valid Acc: 0.8251, Test Loss: 0.4075, Test Acc: 0.8445\n"
     ]
    },
    {
     "name": "stderr",
     "output_type": "stream",
     "text": [
      "                                                          \r"
     ]
    },
    {
     "name": "stdout",
     "output_type": "stream",
     "text": [
      "Epoch: 18/50, Train Loss: 0.2480, Train Acc: 0.9053, Valid Loss: 0.2825, Valid Acc: 0.8894, Test Loss: 0.2720, Test Acc: 0.8985\n"
     ]
    },
    {
     "name": "stderr",
     "output_type": "stream",
     "text": [
      "                                                          \r"
     ]
    },
    {
     "name": "stdout",
     "output_type": "stream",
     "text": [
      "Epoch: 19/50, Train Loss: 0.2397, Train Acc: 0.9101, Valid Loss: 0.3562, Valid Acc: 0.8482, Test Loss: 0.3582, Test Acc: 0.8490\n"
     ]
    },
    {
     "name": "stderr",
     "output_type": "stream",
     "text": [
      "                                                          \r"
     ]
    },
    {
     "name": "stdout",
     "output_type": "stream",
     "text": [
      "Epoch: 20/50, Train Loss: 0.2447, Train Acc: 0.9082, Valid Loss: 0.3194, Valid Acc: 0.8714, Test Loss: 0.2759, Test Acc: 0.8956\n"
     ]
    },
    {
     "name": "stderr",
     "output_type": "stream",
     "text": [
      "                                                          \r"
     ]
    },
    {
     "name": "stdout",
     "output_type": "stream",
     "text": [
      "Epoch: 21/50, Train Loss: 0.2403, Train Acc: 0.9100, Valid Loss: 0.3045, Valid Acc: 0.8838, Test Loss: 0.2753, Test Acc: 0.8989\n"
     ]
    },
    {
     "name": "stderr",
     "output_type": "stream",
     "text": [
      "                                                          \r"
     ]
    },
    {
     "name": "stdout",
     "output_type": "stream",
     "text": [
      "Epoch: 22/50, Train Loss: 0.2400, Train Acc: 0.9088, Valid Loss: 0.4137, Valid Acc: 0.8470, Test Loss: 0.3361, Test Acc: 0.8764\n"
     ]
    },
    {
     "name": "stderr",
     "output_type": "stream",
     "text": [
      "                                                          \r"
     ]
    },
    {
     "name": "stdout",
     "output_type": "stream",
     "text": [
      "Epoch: 23/50, Train Loss: 0.2347, Train Acc: 0.9120, Valid Loss: 0.5384, Valid Acc: 0.7937, Test Loss: 0.5294, Test Acc: 0.8049\n"
     ]
    },
    {
     "name": "stderr",
     "output_type": "stream",
     "text": [
      "                                                          \r"
     ]
    },
    {
     "name": "stdout",
     "output_type": "stream",
     "text": [
      "Epoch: 24/50, Train Loss: 0.2271, Train Acc: 0.9157, Valid Loss: 0.3408, Valid Acc: 0.8722, Test Loss: 0.2818, Test Acc: 0.8962\n"
     ]
    },
    {
     "name": "stderr",
     "output_type": "stream",
     "text": [
      "                                                          \r"
     ]
    },
    {
     "name": "stdout",
     "output_type": "stream",
     "text": [
      "Epoch: 25/50, Train Loss: 0.2220, Train Acc: 0.9186, Valid Loss: 0.2793, Valid Acc: 0.8876, Test Loss: 0.2693, Test Acc: 0.8931\n"
     ]
    },
    {
     "name": "stderr",
     "output_type": "stream",
     "text": [
      "                                                          \r"
     ]
    },
    {
     "name": "stdout",
     "output_type": "stream",
     "text": [
      "Epoch: 26/50, Train Loss: 0.2265, Train Acc: 0.9163, Valid Loss: 0.3859, Valid Acc: 0.8483, Test Loss: 0.3930, Test Acc: 0.8441\n"
     ]
    },
    {
     "name": "stderr",
     "output_type": "stream",
     "text": [
      "                                                          \r"
     ]
    },
    {
     "name": "stdout",
     "output_type": "stream",
     "text": [
      "Epoch: 27/50, Train Loss: 0.2257, Train Acc: 0.9168, Valid Loss: 0.3114, Valid Acc: 0.8833, Test Loss: 0.3018, Test Acc: 0.8867\n"
     ]
    },
    {
     "name": "stderr",
     "output_type": "stream",
     "text": [
      "                                                          \r"
     ]
    },
    {
     "name": "stdout",
     "output_type": "stream",
     "text": [
      "Epoch: 28/50, Train Loss: 0.2144, Train Acc: 0.9196, Valid Loss: 0.3156, Valid Acc: 0.8749, Test Loss: 0.2752, Test Acc: 0.8964\n"
     ]
    },
    {
     "name": "stderr",
     "output_type": "stream",
     "text": [
      "                                                          \r"
     ]
    },
    {
     "name": "stdout",
     "output_type": "stream",
     "text": [
      "Epoch: 29/50, Train Loss: 0.2188, Train Acc: 0.9190, Valid Loss: 0.2551, Valid Acc: 0.9022, Test Loss: 0.2211, Test Acc: 0.9205\n"
     ]
    },
    {
     "name": "stderr",
     "output_type": "stream",
     "text": [
      "                                                          \r"
     ]
    },
    {
     "name": "stdout",
     "output_type": "stream",
     "text": [
      "Epoch: 30/50, Train Loss: 0.2123, Train Acc: 0.9216, Valid Loss: 0.3162, Valid Acc: 0.8741, Test Loss: 0.2803, Test Acc: 0.8949\n"
     ]
    },
    {
     "name": "stderr",
     "output_type": "stream",
     "text": [
      "                                                          \r"
     ]
    },
    {
     "name": "stdout",
     "output_type": "stream",
     "text": [
      "Epoch: 31/50, Train Loss: 0.2132, Train Acc: 0.9184, Valid Loss: 0.2852, Valid Acc: 0.8886, Test Loss: 0.2560, Test Acc: 0.9037\n"
     ]
    },
    {
     "name": "stderr",
     "output_type": "stream",
     "text": [
      "                                                          \r"
     ]
    },
    {
     "name": "stdout",
     "output_type": "stream",
     "text": [
      "Epoch: 32/50, Train Loss: 0.2104, Train Acc: 0.9217, Valid Loss: 0.3766, Valid Acc: 0.8554, Test Loss: 0.3054, Test Acc: 0.8804\n"
     ]
    },
    {
     "name": "stderr",
     "output_type": "stream",
     "text": [
      "                                                          \r"
     ]
    },
    {
     "name": "stdout",
     "output_type": "stream",
     "text": [
      "Epoch: 33/50, Train Loss: 0.2108, Train Acc: 0.9222, Valid Loss: 0.2289, Valid Acc: 0.9127, Test Loss: 0.2166, Test Acc: 0.9195\n"
     ]
    },
    {
     "name": "stderr",
     "output_type": "stream",
     "text": [
      "                                                          \r"
     ]
    },
    {
     "name": "stdout",
     "output_type": "stream",
     "text": [
      "Epoch: 34/50, Train Loss: 0.1978, Train Acc: 0.9269, Valid Loss: 0.3384, Valid Acc: 0.8603, Test Loss: 0.3306, Test Acc: 0.8613\n"
     ]
    },
    {
     "name": "stderr",
     "output_type": "stream",
     "text": [
      "                                                          \r"
     ]
    },
    {
     "name": "stdout",
     "output_type": "stream",
     "text": [
      "Epoch: 35/50, Train Loss: 0.1974, Train Acc: 0.9249, Valid Loss: 0.2386, Valid Acc: 0.9069, Test Loss: 0.2168, Test Acc: 0.9194\n"
     ]
    },
    {
     "name": "stderr",
     "output_type": "stream",
     "text": [
      "                                                          \r"
     ]
    },
    {
     "name": "stdout",
     "output_type": "stream",
     "text": [
      "Epoch: 36/50, Train Loss: 0.1948, Train Acc: 0.9282, Valid Loss: 0.3263, Valid Acc: 0.8742, Test Loss: 0.2940, Test Acc: 0.8896\n"
     ]
    },
    {
     "name": "stderr",
     "output_type": "stream",
     "text": [
      "                                                          \r"
     ]
    },
    {
     "name": "stdout",
     "output_type": "stream",
     "text": [
      "Epoch: 37/50, Train Loss: 0.1855, Train Acc: 0.9323, Valid Loss: 0.3068, Valid Acc: 0.8869, Test Loss: 0.2326, Test Acc: 0.9162\n"
     ]
    },
    {
     "name": "stderr",
     "output_type": "stream",
     "text": [
      "                                                          \r"
     ]
    },
    {
     "name": "stdout",
     "output_type": "stream",
     "text": [
      "Epoch: 38/50, Train Loss: 0.1981, Train Acc: 0.9258, Valid Loss: 0.3242, Valid Acc: 0.8781, Test Loss: 0.3115, Test Acc: 0.8838\n"
     ]
    },
    {
     "name": "stderr",
     "output_type": "stream",
     "text": [
      "                                                          \r"
     ]
    },
    {
     "name": "stdout",
     "output_type": "stream",
     "text": [
      "Epoch: 39/50, Train Loss: 0.2020, Train Acc: 0.9233, Valid Loss: 0.3603, Valid Acc: 0.8570, Test Loss: 0.2826, Test Acc: 0.8883\n"
     ]
    },
    {
     "name": "stderr",
     "output_type": "stream",
     "text": [
      "                                                          \r"
     ]
    },
    {
     "name": "stdout",
     "output_type": "stream",
     "text": [
      "Epoch: 40/50, Train Loss: 0.1923, Train Acc: 0.9280, Valid Loss: 0.2660, Valid Acc: 0.8952, Test Loss: 0.2336, Test Acc: 0.9109\n"
     ]
    },
    {
     "name": "stderr",
     "output_type": "stream",
     "text": [
      "                                                          \r"
     ]
    },
    {
     "name": "stdout",
     "output_type": "stream",
     "text": [
      "Epoch: 41/50, Train Loss: 0.1836, Train Acc: 0.9315, Valid Loss: 0.2509, Valid Acc: 0.9100, Test Loss: 0.1961, Test Acc: 0.9289\n"
     ]
    },
    {
     "name": "stderr",
     "output_type": "stream",
     "text": [
      "                                                          \r"
     ]
    },
    {
     "name": "stdout",
     "output_type": "stream",
     "text": [
      "Epoch: 42/50, Train Loss: 0.1819, Train Acc: 0.9322, Valid Loss: 0.2233, Valid Acc: 0.9166, Test Loss: 0.2035, Test Acc: 0.9284\n"
     ]
    },
    {
     "name": "stderr",
     "output_type": "stream",
     "text": [
      "                                                          \r"
     ]
    },
    {
     "name": "stdout",
     "output_type": "stream",
     "text": [
      "Epoch: 43/50, Train Loss: 0.1817, Train Acc: 0.9308, Valid Loss: 0.2577, Valid Acc: 0.9000, Test Loss: 0.2045, Test Acc: 0.9237\n"
     ]
    },
    {
     "name": "stderr",
     "output_type": "stream",
     "text": [
      "                                                          \r"
     ]
    },
    {
     "name": "stdout",
     "output_type": "stream",
     "text": [
      "Epoch: 44/50, Train Loss: 0.1789, Train Acc: 0.9331, Valid Loss: 0.4622, Valid Acc: 0.8263, Test Loss: 0.3832, Test Acc: 0.8471\n"
     ]
    },
    {
     "name": "stderr",
     "output_type": "stream",
     "text": [
      "                                                          \r"
     ]
    },
    {
     "name": "stdout",
     "output_type": "stream",
     "text": [
      "Epoch: 45/50, Train Loss: 0.1785, Train Acc: 0.9337, Valid Loss: 0.2066, Valid Acc: 0.9226, Test Loss: 0.1939, Test Acc: 0.9326\n"
     ]
    },
    {
     "name": "stderr",
     "output_type": "stream",
     "text": [
      "                                                          \r"
     ]
    },
    {
     "name": "stdout",
     "output_type": "stream",
     "text": [
      "Epoch: 46/50, Train Loss: 0.1788, Train Acc: 0.9315, Valid Loss: 0.2160, Valid Acc: 0.9175, Test Loss: 0.2007, Test Acc: 0.9268\n"
     ]
    },
    {
     "name": "stderr",
     "output_type": "stream",
     "text": [
      "                                                          \r"
     ]
    },
    {
     "name": "stdout",
     "output_type": "stream",
     "text": [
      "Epoch: 47/50, Train Loss: 0.1712, Train Acc: 0.9351, Valid Loss: 0.2050, Valid Acc: 0.9211, Test Loss: 0.1761, Test Acc: 0.9342\n"
     ]
    },
    {
     "name": "stderr",
     "output_type": "stream",
     "text": [
      "                                                          \r"
     ]
    },
    {
     "name": "stdout",
     "output_type": "stream",
     "text": [
      "Epoch: 48/50, Train Loss: 0.1799, Train Acc: 0.9336, Valid Loss: 0.2138, Valid Acc: 0.9170, Test Loss: 0.1764, Test Acc: 0.9341\n"
     ]
    },
    {
     "name": "stderr",
     "output_type": "stream",
     "text": [
      "                                                          \r"
     ]
    },
    {
     "name": "stdout",
     "output_type": "stream",
     "text": [
      "Epoch: 49/50, Train Loss: 0.1786, Train Acc: 0.9360, Valid Loss: 0.2200, Valid Acc: 0.9140, Test Loss: 0.1823, Test Acc: 0.9338\n"
     ]
    },
    {
     "data": {
      "image/png": "[encoded data removed]",
      "text/plain": [
       "<Figure size 1000x500 with 2 Axes>"
      ]
     },
     "metadata": {},
     "output_type": "display_data"
    }
   ],
   "source": [
    "from RCNet import RCNet\n",
    "\n",
    "\n",
    "batch_size = 128\n",
    "# train_samples = 100000\n",
    "train_samples = 20000\n",
    "\n",
    "\n",
    "train_loader, valid_loader, test_loader = create_data_loaders(train_dirs, valid_dirs, test_dirs, \n",
    "                                                              batch_size, train_samples)\n",
    "\n",
    "RCNet_model = RCNet()\n",
    "\n",
    "RCNet_lr = 0.0001\n",
    "criterion = nn.CrossEntropyLoss()\n",
    "RCNet_optimizer = optim.Adam(RCNet_model.parameters(),RCNet_lr)\n",
    "\n",
    "train_model(RCNet_model,train_loader,valid_loader,test_loader,50,RCNet_optimizer,\n",
    "            criterion,'RCNet_model', train_samples, RCNet_lr, batch_size, 50)"
   ]
  },
  {
   "cell_type": "markdown",
   "metadata": {},
   "source": [
    "### RCNet with CBAM attention"
   ]
  },
  {
   "cell_type": "code",
   "execution_count": 39,
   "metadata": {},
   "outputs": [
    {
     "name": "stderr",
     "output_type": "stream",
     "text": [
      "                                                          \r"
     ]
    },
    {
     "name": "stdout",
     "output_type": "stream",
     "text": [
      "Epoch: 0/50, Train Loss: 0.1146, Train Acc: 0.9595, Valid Loss: 0.1962, Valid Acc: 0.9350, Test Loss: 0.1661, Test Acc: 0.9462\n"
     ]
    },
    {
     "name": "stderr",
     "output_type": "stream",
     "text": [
      "                                                          \r"
     ]
    },
    {
     "name": "stdout",
     "output_type": "stream",
     "text": [
      "Epoch: 1/50, Train Loss: 0.1090, Train Acc: 0.9611, Valid Loss: 0.2084, Valid Acc: 0.9258, Test Loss: 0.1958, Test Acc: 0.9328\n"
     ]
    },
    {
     "name": "stderr",
     "output_type": "stream",
     "text": [
      "                                                          \r"
     ]
    },
    {
     "name": "stdout",
     "output_type": "stream",
     "text": [
      "Epoch: 2/50, Train Loss: 0.1135, Train Acc: 0.9598, Valid Loss: 0.1640, Valid Acc: 0.9394, Test Loss: 0.1260, Test Acc: 0.9555\n"
     ]
    },
    {
     "name": "stderr",
     "output_type": "stream",
     "text": [
      "                                                          \r"
     ]
    },
    {
     "name": "stdout",
     "output_type": "stream",
     "text": [
      "Epoch: 3/50, Train Loss: 0.1085, Train Acc: 0.9611, Valid Loss: 0.1650, Valid Acc: 0.9426, Test Loss: 0.1331, Test Acc: 0.9549\n"
     ]
    },
    {
     "name": "stderr",
     "output_type": "stream",
     "text": [
      "                                                          \r"
     ]
    },
    {
     "name": "stdout",
     "output_type": "stream",
     "text": [
      "Epoch: 4/50, Train Loss: 0.1105, Train Acc: 0.9610, Valid Loss: 0.1956, Valid Acc: 0.9321, Test Loss: 0.1582, Test Acc: 0.9478\n"
     ]
    },
    {
     "name": "stderr",
     "output_type": "stream",
     "text": [
      "                                                          \r"
     ]
    },
    {
     "name": "stdout",
     "output_type": "stream",
     "text": [
      "Epoch: 5/50, Train Loss: 0.1100, Train Acc: 0.9598, Valid Loss: 0.1739, Valid Acc: 0.9347, Test Loss: 0.1364, Test Acc: 0.9523\n"
     ]
    },
    {
     "name": "stderr",
     "output_type": "stream",
     "text": [
      "                                                          \r"
     ]
    },
    {
     "name": "stdout",
     "output_type": "stream",
     "text": [
      "Epoch: 6/50, Train Loss: 0.1121, Train Acc: 0.9600, Valid Loss: 0.1647, Valid Acc: 0.9428, Test Loss: 0.1454, Test Acc: 0.9489\n"
     ]
    },
    {
     "name": "stderr",
     "output_type": "stream",
     "text": [
      "                                                          \r"
     ]
    },
    {
     "name": "stdout",
     "output_type": "stream",
     "text": [
      "Epoch: 7/50, Train Loss: 0.1124, Train Acc: 0.9591, Valid Loss: 0.1445, Valid Acc: 0.9493, Test Loss: 0.1242, Test Acc: 0.9571\n"
     ]
    },
    {
     "name": "stderr",
     "output_type": "stream",
     "text": [
      "                                                          \r"
     ]
    },
    {
     "name": "stdout",
     "output_type": "stream",
     "text": [
      "Epoch: 8/50, Train Loss: 0.1055, Train Acc: 0.9626, Valid Loss: 0.1583, Valid Acc: 0.9431, Test Loss: 0.1322, Test Acc: 0.9531\n"
     ]
    },
    {
     "name": "stderr",
     "output_type": "stream",
     "text": [
      "                                                          \r"
     ]
    },
    {
     "name": "stdout",
     "output_type": "stream",
     "text": [
      "Epoch: 9/50, Train Loss: 0.1012, Train Acc: 0.9628, Valid Loss: 0.1582, Valid Acc: 0.9429, Test Loss: 0.1209, Test Acc: 0.9607\n"
     ]
    },
    {
     "name": "stderr",
     "output_type": "stream",
     "text": [
      "                                                          \r"
     ]
    },
    {
     "name": "stdout",
     "output_type": "stream",
     "text": [
      "Epoch: 10/50, Train Loss: 0.1052, Train Acc: 0.9623, Valid Loss: 0.1828, Valid Acc: 0.9358, Test Loss: 0.1672, Test Acc: 0.9422\n"
     ]
    },
    {
     "name": "stderr",
     "output_type": "stream",
     "text": [
      "                                                          \r"
     ]
    },
    {
     "name": "stdout",
     "output_type": "stream",
     "text": [
      "Epoch: 11/50, Train Loss: 0.1018, Train Acc: 0.9641, Valid Loss: 0.1942, Valid Acc: 0.9329, Test Loss: 0.1646, Test Acc: 0.9472\n"
     ]
    },
    {
     "name": "stderr",
     "output_type": "stream",
     "text": [
      "                                                          \r"
     ]
    },
    {
     "name": "stdout",
     "output_type": "stream",
     "text": [
      "Epoch: 12/50, Train Loss: 0.1059, Train Acc: 0.9616, Valid Loss: 0.2393, Valid Acc: 0.9212, Test Loss: 0.2244, Test Acc: 0.9273\n"
     ]
    },
    {
     "name": "stderr",
     "output_type": "stream",
     "text": [
      "                                                          \r"
     ]
    },
    {
     "name": "stdout",
     "output_type": "stream",
     "text": [
      "Epoch: 13/50, Train Loss: 0.1094, Train Acc: 0.9607, Valid Loss: 0.1318, Valid Acc: 0.9520, Test Loss: 0.1167, Test Acc: 0.9601\n"
     ]
    },
    {
     "name": "stderr",
     "output_type": "stream",
     "text": [
      "                                                          \r"
     ]
    },
    {
     "name": "stdout",
     "output_type": "stream",
     "text": [
      "Epoch: 14/50, Train Loss: 0.0989, Train Acc: 0.9634, Valid Loss: 0.2023, Valid Acc: 0.9290, Test Loss: 0.1646, Test Acc: 0.9458\n"
     ]
    },
    {
     "name": "stderr",
     "output_type": "stream",
     "text": [
      "                                                          \r"
     ]
    },
    {
     "name": "stdout",
     "output_type": "stream",
     "text": [
      "Epoch: 15/50, Train Loss: 0.1030, Train Acc: 0.9638, Valid Loss: 0.1626, Valid Acc: 0.9399, Test Loss: 0.1241, Test Acc: 0.9567\n"
     ]
    },
    {
     "name": "stderr",
     "output_type": "stream",
     "text": [
      "                                                          \r"
     ]
    },
    {
     "name": "stdout",
     "output_type": "stream",
     "text": [
      "Epoch: 16/50, Train Loss: 0.0997, Train Acc: 0.9637, Valid Loss: 0.1417, Valid Acc: 0.9496, Test Loss: 0.1145, Test Acc: 0.9609\n"
     ]
    },
    {
     "name": "stderr",
     "output_type": "stream",
     "text": [
      "                                                          \r"
     ]
    },
    {
     "name": "stdout",
     "output_type": "stream",
     "text": [
      "Epoch: 17/50, Train Loss: 0.0991, Train Acc: 0.9642, Valid Loss: 0.2800, Valid Acc: 0.9074, Test Loss: 0.2630, Test Acc: 0.9153\n"
     ]
    },
    {
     "name": "stderr",
     "output_type": "stream",
     "text": [
      "                                                          \r"
     ]
    },
    {
     "name": "stdout",
     "output_type": "stream",
     "text": [
      "Epoch: 18/50, Train Loss: 0.1015, Train Acc: 0.9628, Valid Loss: 0.1473, Valid Acc: 0.9466, Test Loss: 0.1203, Test Acc: 0.9588\n"
     ]
    },
    {
     "name": "stderr",
     "output_type": "stream",
     "text": [
      "                                                          \r"
     ]
    },
    {
     "name": "stdout",
     "output_type": "stream",
     "text": [
      "Epoch: 19/50, Train Loss: 0.0998, Train Acc: 0.9629, Valid Loss: 0.2119, Valid Acc: 0.9290, Test Loss: 0.1976, Test Acc: 0.9352\n"
     ]
    },
    {
     "name": "stderr",
     "output_type": "stream",
     "text": [
      "                                                          \r"
     ]
    },
    {
     "name": "stdout",
     "output_type": "stream",
     "text": [
      "Epoch: 20/50, Train Loss: 0.0981, Train Acc: 0.9647, Valid Loss: 0.2101, Valid Acc: 0.9310, Test Loss: 0.1909, Test Acc: 0.9387\n"
     ]
    },
    {
     "name": "stderr",
     "output_type": "stream",
     "text": [
      "                                                          \r"
     ]
    },
    {
     "name": "stdout",
     "output_type": "stream",
     "text": [
      "Epoch: 21/50, Train Loss: 0.0969, Train Acc: 0.9654, Valid Loss: 0.1687, Valid Acc: 0.9426, Test Loss: 0.1470, Test Acc: 0.9508\n"
     ]
    },
    {
     "name": "stderr",
     "output_type": "stream",
     "text": [
      "                                                          \r"
     ]
    },
    {
     "name": "stdout",
     "output_type": "stream",
     "text": [
      "Epoch: 22/50, Train Loss: 0.0953, Train Acc: 0.9651, Valid Loss: 0.2172, Valid Acc: 0.9289, Test Loss: 0.1950, Test Acc: 0.9353\n"
     ]
    },
    {
     "name": "stderr",
     "output_type": "stream",
     "text": [
      "                                                          \r"
     ]
    },
    {
     "name": "stdout",
     "output_type": "stream",
     "text": [
      "Epoch: 23/50, Train Loss: 0.0957, Train Acc: 0.9652, Valid Loss: 0.1486, Valid Acc: 0.9498, Test Loss: 0.1275, Test Acc: 0.9584\n"
     ]
    },
    {
     "name": "stderr",
     "output_type": "stream",
     "text": [
      "                                                          \r"
     ]
    },
    {
     "name": "stdout",
     "output_type": "stream",
     "text": [
      "Epoch: 24/50, Train Loss: 0.0964, Train Acc: 0.9646, Valid Loss: 0.1792, Valid Acc: 0.9398, Test Loss: 0.1595, Test Acc: 0.9482\n"
     ]
    },
    {
     "name": "stderr",
     "output_type": "stream",
     "text": [
      "                                                          \r"
     ]
    },
    {
     "name": "stdout",
     "output_type": "stream",
     "text": [
      "Epoch: 25/50, Train Loss: 0.0956, Train Acc: 0.9645, Valid Loss: 0.1563, Valid Acc: 0.9467, Test Loss: 0.1393, Test Acc: 0.9531\n"
     ]
    },
    {
     "name": "stderr",
     "output_type": "stream",
     "text": [
      "                                                          \r"
     ]
    },
    {
     "name": "stdout",
     "output_type": "stream",
     "text": [
      "Epoch: 26/50, Train Loss: 0.0931, Train Acc: 0.9665, Valid Loss: 0.1486, Valid Acc: 0.9473, Test Loss: 0.1195, Test Acc: 0.9597\n"
     ]
    },
    {
     "name": "stderr",
     "output_type": "stream",
     "text": [
      "                                                          \r"
     ]
    },
    {
     "name": "stdout",
     "output_type": "stream",
     "text": [
      "Epoch: 27/50, Train Loss: 0.0975, Train Acc: 0.9651, Valid Loss: 0.1940, Valid Acc: 0.9368, Test Loss: 0.1737, Test Acc: 0.9427\n"
     ]
    },
    {
     "name": "stderr",
     "output_type": "stream",
     "text": [
      "                                                          \r"
     ]
    },
    {
     "name": "stdout",
     "output_type": "stream",
     "text": [
      "Epoch: 28/50, Train Loss: 0.0984, Train Acc: 0.9647, Valid Loss: 0.1481, Valid Acc: 0.9493, Test Loss: 0.1311, Test Acc: 0.9569\n"
     ]
    },
    {
     "name": "stderr",
     "output_type": "stream",
     "text": [
      "                                                          \r"
     ]
    },
    {
     "name": "stdout",
     "output_type": "stream",
     "text": [
      "Epoch: 29/50, Train Loss: 0.0965, Train Acc: 0.9649, Valid Loss: 0.1465, Valid Acc: 0.9494, Test Loss: 0.1282, Test Acc: 0.9587\n"
     ]
    },
    {
     "name": "stderr",
     "output_type": "stream",
     "text": [
      "                                                          \r"
     ]
    },
    {
     "name": "stdout",
     "output_type": "stream",
     "text": [
      "Epoch: 30/50, Train Loss: 0.0912, Train Acc: 0.9677, Valid Loss: 0.1729, Valid Acc: 0.9416, Test Loss: 0.1523, Test Acc: 0.9493\n"
     ]
    },
    {
     "name": "stderr",
     "output_type": "stream",
     "text": [
      "                                                          \r"
     ]
    },
    {
     "name": "stdout",
     "output_type": "stream",
     "text": [
      "Epoch: 31/50, Train Loss: 0.0892, Train Acc: 0.9686, Valid Loss: 0.2229, Valid Acc: 0.9289, Test Loss: 0.2133, Test Acc: 0.9337\n"
     ]
    },
    {
     "name": "stderr",
     "output_type": "stream",
     "text": [
      "                                                          \r"
     ]
    },
    {
     "name": "stdout",
     "output_type": "stream",
     "text": [
      "Epoch: 32/50, Train Loss: 0.0915, Train Acc: 0.9678, Valid Loss: 0.2806, Valid Acc: 0.9143, Test Loss: 0.2640, Test Acc: 0.9172\n"
     ]
    },
    {
     "name": "stderr",
     "output_type": "stream",
     "text": [
      "                                                          \r"
     ]
    },
    {
     "name": "stdout",
     "output_type": "stream",
     "text": [
      "Epoch: 33/50, Train Loss: 0.0914, Train Acc: 0.9676, Valid Loss: 0.1487, Valid Acc: 0.9509, Test Loss: 0.1300, Test Acc: 0.9588\n"
     ]
    },
    {
     "name": "stderr",
     "output_type": "stream",
     "text": [
      "                                                          \r"
     ]
    },
    {
     "name": "stdout",
     "output_type": "stream",
     "text": [
      "Epoch: 34/50, Train Loss: 0.0896, Train Acc: 0.9678, Valid Loss: 0.1890, Valid Acc: 0.9383, Test Loss: 0.1635, Test Acc: 0.9476\n"
     ]
    },
    {
     "name": "stderr",
     "output_type": "stream",
     "text": [
      "                                                          \r"
     ]
    },
    {
     "name": "stdout",
     "output_type": "stream",
     "text": [
      "Epoch: 35/50, Train Loss: 0.0897, Train Acc: 0.9672, Valid Loss: 0.2537, Valid Acc: 0.9112, Test Loss: 0.2419, Test Acc: 0.9148\n"
     ]
    },
    {
     "name": "stderr",
     "output_type": "stream",
     "text": [
      "                                                          \r"
     ]
    },
    {
     "name": "stdout",
     "output_type": "stream",
     "text": [
      "Epoch: 36/50, Train Loss: 0.0886, Train Acc: 0.9675, Valid Loss: 0.1425, Valid Acc: 0.9521, Test Loss: 0.1240, Test Acc: 0.9586\n"
     ]
    },
    {
     "name": "stderr",
     "output_type": "stream",
     "text": [
      "                                                          \r"
     ]
    },
    {
     "name": "stdout",
     "output_type": "stream",
     "text": [
      "Epoch: 37/50, Train Loss: 0.0925, Train Acc: 0.9676, Valid Loss: 0.1441, Valid Acc: 0.9508, Test Loss: 0.1228, Test Acc: 0.9599\n"
     ]
    },
    {
     "name": "stderr",
     "output_type": "stream",
     "text": [
      "                                                          \r"
     ]
    },
    {
     "name": "stdout",
     "output_type": "stream",
     "text": [
      "Epoch: 38/50, Train Loss: 0.0849, Train Acc: 0.9696, Valid Loss: 0.2176, Valid Acc: 0.9295, Test Loss: 0.1992, Test Acc: 0.9355\n"
     ]
    },
    {
     "name": "stderr",
     "output_type": "stream",
     "text": [
      "                                                          \r"
     ]
    },
    {
     "name": "stdout",
     "output_type": "stream",
     "text": [
      "Epoch: 39/50, Train Loss: 0.0897, Train Acc: 0.9688, Valid Loss: 0.1415, Valid Acc: 0.9506, Test Loss: 0.1193, Test Acc: 0.9585\n"
     ]
    },
    {
     "name": "stderr",
     "output_type": "stream",
     "text": [
      "                                                          \r"
     ]
    },
    {
     "name": "stdout",
     "output_type": "stream",
     "text": [
      "Epoch: 40/50, Train Loss: 0.0880, Train Acc: 0.9687, Valid Loss: 0.1307, Valid Acc: 0.9531, Test Loss: 0.1119, Test Acc: 0.9630\n"
     ]
    },
    {
     "name": "stderr",
     "output_type": "stream",
     "text": [
      "                                                          \r"
     ]
    },
    {
     "name": "stdout",
     "output_type": "stream",
     "text": [
      "Epoch: 41/50, Train Loss: 0.0886, Train Acc: 0.9677, Valid Loss: 0.1837, Valid Acc: 0.9385, Test Loss: 0.1673, Test Acc: 0.9463\n"
     ]
    },
    {
     "name": "stderr",
     "output_type": "stream",
     "text": [
      "                                                          \r"
     ]
    },
    {
     "name": "stdout",
     "output_type": "stream",
     "text": [
      "Epoch: 42/50, Train Loss: 0.0881, Train Acc: 0.9675, Valid Loss: 0.1634, Valid Acc: 0.9453, Test Loss: 0.1387, Test Acc: 0.9537\n"
     ]
    },
    {
     "name": "stderr",
     "output_type": "stream",
     "text": [
      "                                                          \r"
     ]
    },
    {
     "name": "stdout",
     "output_type": "stream",
     "text": [
      "Epoch: 43/50, Train Loss: 0.0874, Train Acc: 0.9687, Valid Loss: 0.1687, Valid Acc: 0.9432, Test Loss: 0.1286, Test Acc: 0.9569\n"
     ]
    },
    {
     "name": "stderr",
     "output_type": "stream",
     "text": [
      "                                                          \r"
     ]
    },
    {
     "name": "stdout",
     "output_type": "stream",
     "text": [
      "Epoch: 44/50, Train Loss: 0.0863, Train Acc: 0.9697, Valid Loss: 0.1245, Valid Acc: 0.9556, Test Loss: 0.1064, Test Acc: 0.9647\n"
     ]
    },
    {
     "name": "stderr",
     "output_type": "stream",
     "text": [
      "                                                          \r"
     ]
    },
    {
     "name": "stdout",
     "output_type": "stream",
     "text": [
      "Epoch: 45/50, Train Loss: 0.0856, Train Acc: 0.9689, Valid Loss: 0.1907, Valid Acc: 0.9384, Test Loss: 0.1755, Test Acc: 0.9430\n"
     ]
    },
    {
     "name": "stderr",
     "output_type": "stream",
     "text": [
      "                                                          \r"
     ]
    },
    {
     "name": "stdout",
     "output_type": "stream",
     "text": [
      "Epoch: 46/50, Train Loss: 0.0847, Train Acc: 0.9697, Valid Loss: 0.1446, Valid Acc: 0.9531, Test Loss: 0.1250, Test Acc: 0.9619\n"
     ]
    },
    {
     "name": "stderr",
     "output_type": "stream",
     "text": [
      "                                                          \r"
     ]
    },
    {
     "name": "stdout",
     "output_type": "stream",
     "text": [
      "Epoch: 47/50, Train Loss: 0.0864, Train Acc: 0.9690, Valid Loss: 0.1589, Valid Acc: 0.9454, Test Loss: 0.1367, Test Acc: 0.9540\n"
     ]
    },
    {
     "name": "stderr",
     "output_type": "stream",
     "text": [
      "                                                          \r"
     ]
    },
    {
     "name": "stdout",
     "output_type": "stream",
     "text": [
      "Epoch: 48/50, Train Loss: 0.0882, Train Acc: 0.9683, Valid Loss: 0.1269, Valid Acc: 0.9533, Test Loss: 0.1058, Test Acc: 0.9642\n"
     ]
    },
    {
     "name": "stderr",
     "output_type": "stream",
     "text": [
      "                                                          \r"
     ]
    },
    {
     "name": "stdout",
     "output_type": "stream",
     "text": [
      "Epoch: 49/50, Train Loss: 0.0831, Train Acc: 0.9712, Valid Loss: 0.1699, Valid Acc: 0.9395, Test Loss: 0.1259, Test Acc: 0.9562\n"
     ]
    },
    {
     "data": {
      "image/png": "[encoded data removed]",
      "text/plain": [
       "<Figure size 1000x500 with 2 Axes>"
      ]
     },
     "metadata": {},
     "output_type": "display_data"
    }
   ],
   "source": [
    "from RCNet_CBAM_Attention import RCNet_attention\n",
    "\n",
    "\n",
    "batch_size = 128\n",
    "# train_samples = 100000\n",
    "train_samples = 40000\n",
    "\n",
    "\n",
    "train_loader, valid_loader, test_loader = create_data_loaders(train_dirs, valid_dirs, test_dirs, \n",
    "                                                              batch_size, train_samples)\n",
    "\n",
    "RCNet_attention_model = RCNet_attention()\n",
    "checkpoint = torch.load('models/20240331164717/40.chkpt')\n",
    "\n",
    "# Load the model state_dict\n",
    "RCNet_attention_model.load_state_dict(checkpoint)\n",
    "\n",
    "RCNet_attention_model\n",
    "RCNet_attention_lr = 0.00005\n",
    "criterion = nn.CrossEntropyLoss()\n",
    "RCNet_attention_optimizer = optim.Adam(RCNet_attention_model.parameters(),RCNet_attention_lr)\n",
    "\n",
    "train_model(RCNet_attention_model,train_loader,valid_loader,test_loader,50,RCNet_attention_optimizer,\n",
    "            criterion,'RCNet_attention_model', train_samples, RCNet_attention_lr, batch_size, 50)"
   ]
  },
  {
   "cell_type": "markdown",
   "metadata": {},
   "source": [
    "# Model evaluation"
   ]
  },
  {
   "cell_type": "code",
   "execution_count": 55,
   "metadata": {},
   "outputs": [],
   "source": [
    "# List of tuples containing models and their names\n",
    "models_list = [\n",
    "    (shallow_cnn_model, \"shallow_cnn_model\"),\n",
    "    (inceptionV3_model, \"inceptionV3_model\"),\n",
    "    (vgg_model, \"vgg_model\"),\n",
    "    (resnet_model, \"resnet_model\"),\n",
    "    (RCNet_model, \"RCNet_model\"),\n",
    "    (RCNet_attention_model, \"RCNet_attention_model\")\n",
    "]"
   ]
  },
  {
   "cell_type": "code",
   "execution_count": 56,
   "metadata": {},
   "outputs": [
    {
     "name": "stdout",
     "output_type": "stream",
     "text": [
      "Model: shallow_cnn_model\n",
      "Total parameters:  2492835\n",
      "Trainable parameters:  2492835\n",
      "\n",
      "Model: inceptionV3_model\n",
      "Total parameters:  26293451\n",
      "Trainable parameters:  1181187\n",
      "\n",
      "Model: vgg_model\n",
      "Total parameters:  136490307\n",
      "Trainable parameters:  2229763\n",
      "\n",
      "Model: resnet_model\n",
      "Total parameters:  11440707\n",
      "Trainable parameters:  11440707\n",
      "\n",
      "Model: RCNet_model\n",
      "Total parameters:  4829731\n",
      "Trainable parameters:  4829731\n",
      "\n",
      "Model: RCNet_attention_model\n",
      "Total parameters:  4849507\n",
      "Trainable parameters:  4849507\n",
      "\n"
     ]
    }
   ],
   "source": [
    "def count_parameters(model):\n",
    "    total_params = sum(p.numel() for p in model.parameters())\n",
    "    trainable_params = sum(p.numel() for p in model.parameters() if p.requires_grad)\n",
    "    return total_params, trainable_params\n",
    "\n",
    "# Iterate through models and print total parameters\n",
    "for model, name in models_list:\n",
    "    total_params, trainable_params = count_parameters(model)\n",
    "    print(f\"Model: {name}\")\n",
    "    print(\"Total parameters: \", total_params)\n",
    "    print(\"Trainable parameters: \", trainable_params)\n",
    "    print()"
   ]
  },
  {
   "cell_type": "markdown",
   "metadata": {},
   "source": [
    "### Learning and accuracy curves"
   ]
  },
  {
   "cell_type": "markdown",
   "metadata": {},
   "source": [
    "### Confusion matrices"
   ]
  },
  {
   "cell_type": "code",
   "execution_count": null,
   "metadata": {},
   "outputs": [],
   "source": [
    "import matplotlib.pyplot as plt\n",
    "import seaborn as sns\n",
    "from sklearn.metrics import confusion_matrix\n",
    "\n",
    "def produce_confusion_matrices(model, model_name, test_loader, criterion):\n",
    "    device = torch.device(\"cuda\" if torch.cuda.is_available() else \"cpu\")\n",
    "\n",
    "    # Set the model to evaluation mode\n",
    "    model.eval()\n",
    "\n",
    "    # Initialize lists to store true labels and predictions\n",
    "    all_labels = []\n",
    "    all_preds = []\n",
    "\n",
    "    with torch.no_grad():\n",
    "        test_loss = 0\n",
    "        test_correct = 0\n",
    "        for images, labels in test_loader:\n",
    "            # Move data to the appropriate device\n",
    "            images, labels = images.to(device), labels.to(device)\n",
    "            labels = labels.to(torch.long)\n",
    "\n",
    "            # Forward pass\n",
    "            outputs = model(images)\n",
    "            loss = criterion(outputs, labels)\n",
    "\n",
    "            # Update test loss\n",
    "            test_loss += loss.item() * images.size(0)\n",
    "\n",
    "            # Get predictions\n",
    "            _, predicted = torch.max(outputs.data, 1)\n",
    "\n",
    "            # Update accuracy\n",
    "            test_correct += (predicted == labels).sum().item()\n",
    "\n",
    "            # Store labels and predictions\n",
    "            all_labels.extend(labels.cpu().numpy())\n",
    "            all_preds.extend(predicted.cpu().numpy())\n",
    "\n",
    "    # Calculate the overall loss and accuracy\n",
    "    test_loss = test_loss / len(test_loader.dataset)\n",
    "    test_accuracy = test_correct / len(test_loader.dataset)\n",
    "\n",
    "    print(f'Model: {model_name}')\n",
    "    print(f'Test Loss: {test_loss:.4f}, Test Accuracy: {test_accuracy:.4f}')\n",
    "\n",
    "    # Compute the confusion matrix\n",
    "    cm = confusion_matrix(all_labels, all_preds)\n",
    "\n",
    "    # Plot confusion matrix\n",
    "    plt.figure(figsize=(8, 6))\n",
    "    sns.set(font_scale=1.2)\n",
    "    sns.heatmap(cm, annot=True, fmt=\"d\", cmap=\"Blues\", cbar=False)\n",
    "    plt.title(f'Confusion Matrix - {model_name}')\n",
    "    plt.xlabel('Predicted Label')\n",
    "    plt.ylabel('True Label')\n",
    "    plt.show()\n",
    "\n",
    "# Example usage:\n",
    "criterion = nn.CrossEntropyLoss()\n",
    "for model, name in models_list:\n",
    "\n",
    "    produce_confusion_matrices(model, name, test_loader, criterion)\n"
   ]
  },
  {
   "cell_type": "markdown",
   "metadata": {},
   "source": [
    "# Model Visualisation"
   ]
  },
  {
   "cell_type": "code",
   "execution_count": 50,
   "metadata": {},
   "outputs": [],
   "source": [
    "from torchview import draw_graph\n",
    "from torchvision.models import resnet18, GoogLeNet, densenet, vit_b_16\n",
    "import graphviz\n",
    "\n",
    "# when running on VSCode run the below command\n",
    "# svg format on vscode does not give desired result\n",
    "graphviz.set_jupyter_format('png')\n",
    "\n",
    "model_graph = draw_graph(RCNet_attention(), input_size=(1,3,64,96), expand_nested=True)"
   ]
  },
  {
   "cell_type": "code",
   "execution_count": 51,
   "metadata": {},
   "outputs": [
    {
     "ename": "ExecutableNotFound",
     "evalue": "failed to execute WindowsPath('dot'), make sure the Graphviz executables are on your systems' PATH",
     "output_type": "error",
     "traceback": [
      "\u001b[1;31m---------------------------------------------------------------------------\u001b[0m",
      "\u001b[1;31mFileNotFoundError\u001b[0m                         Traceback (most recent call last)",
      "File \u001b[1;32mc:\\Users\\dgolden\\OneDrive - National University of Ireland, Galway\\Masters\\Semester 2\\CT5135 Research Topics in AI\\Assignment_2\\.venv\\lib\\site-packages\\graphviz\\backend\\execute.py:76\u001b[0m, in \u001b[0;36mrun_check\u001b[1;34m(cmd, input_lines, encoding, quiet, **kwargs)\u001b[0m\n\u001b[0;32m     75\u001b[0m         kwargs[\u001b[38;5;124m'\u001b[39m\u001b[38;5;124mstdout\u001b[39m\u001b[38;5;124m'\u001b[39m] \u001b[38;5;241m=\u001b[39m kwargs[\u001b[38;5;124m'\u001b[39m\u001b[38;5;124mstderr\u001b[39m\u001b[38;5;124m'\u001b[39m] \u001b[38;5;241m=\u001b[39m subprocess\u001b[38;5;241m.\u001b[39mPIPE\n\u001b[1;32m---> 76\u001b[0m     proc \u001b[38;5;241m=\u001b[39m \u001b[43m_run_input_lines\u001b[49m\u001b[43m(\u001b[49m\u001b[43mcmd\u001b[49m\u001b[43m,\u001b[49m\u001b[43m \u001b[49m\u001b[43minput_lines\u001b[49m\u001b[43m,\u001b[49m\u001b[43m \u001b[49m\u001b[43mkwargs\u001b[49m\u001b[38;5;241;43m=\u001b[39;49m\u001b[43mkwargs\u001b[49m\u001b[43m)\u001b[49m\n\u001b[0;32m     77\u001b[0m \u001b[38;5;28;01melse\u001b[39;00m:\n",
      "File \u001b[1;32mc:\\Users\\dgolden\\OneDrive - National University of Ireland, Galway\\Masters\\Semester 2\\CT5135 Research Topics in AI\\Assignment_2\\.venv\\lib\\site-packages\\graphviz\\backend\\execute.py:96\u001b[0m, in \u001b[0;36m_run_input_lines\u001b[1;34m(cmd, input_lines, kwargs)\u001b[0m\n\u001b[0;32m     95\u001b[0m \u001b[38;5;28;01mdef\u001b[39;00m \u001b[38;5;21m_run_input_lines\u001b[39m(cmd, input_lines, \u001b[38;5;241m*\u001b[39m, kwargs):\n\u001b[1;32m---> 96\u001b[0m     popen \u001b[38;5;241m=\u001b[39m subprocess\u001b[38;5;241m.\u001b[39mPopen(cmd, stdin\u001b[38;5;241m=\u001b[39msubprocess\u001b[38;5;241m.\u001b[39mPIPE, \u001b[38;5;241m*\u001b[39m\u001b[38;5;241m*\u001b[39mkwargs)\n\u001b[0;32m     98\u001b[0m     stdin_write \u001b[38;5;241m=\u001b[39m popen\u001b[38;5;241m.\u001b[39mstdin\u001b[38;5;241m.\u001b[39mwrite\n",
      "File \u001b[1;32m~\\AppData\\Local\\Programs\\Python\\Python39\\lib\\subprocess.py:951\u001b[0m, in \u001b[0;36mPopen.__init__\u001b[1;34m(self, args, bufsize, executable, stdin, stdout, stderr, preexec_fn, close_fds, shell, cwd, env, universal_newlines, startupinfo, creationflags, restore_signals, start_new_session, pass_fds, user, group, extra_groups, encoding, errors, text, umask)\u001b[0m\n\u001b[0;32m    948\u001b[0m             \u001b[38;5;28mself\u001b[39m\u001b[38;5;241m.\u001b[39mstderr \u001b[38;5;241m=\u001b[39m io\u001b[38;5;241m.\u001b[39mTextIOWrapper(\u001b[38;5;28mself\u001b[39m\u001b[38;5;241m.\u001b[39mstderr,\n\u001b[0;32m    949\u001b[0m                     encoding\u001b[38;5;241m=\u001b[39mencoding, errors\u001b[38;5;241m=\u001b[39merrors)\n\u001b[1;32m--> 951\u001b[0m     \u001b[38;5;28;43mself\u001b[39;49m\u001b[38;5;241;43m.\u001b[39;49m\u001b[43m_execute_child\u001b[49m\u001b[43m(\u001b[49m\u001b[43margs\u001b[49m\u001b[43m,\u001b[49m\u001b[43m \u001b[49m\u001b[43mexecutable\u001b[49m\u001b[43m,\u001b[49m\u001b[43m \u001b[49m\u001b[43mpreexec_fn\u001b[49m\u001b[43m,\u001b[49m\u001b[43m \u001b[49m\u001b[43mclose_fds\u001b[49m\u001b[43m,\u001b[49m\n\u001b[0;32m    952\u001b[0m \u001b[43m                        \u001b[49m\u001b[43mpass_fds\u001b[49m\u001b[43m,\u001b[49m\u001b[43m \u001b[49m\u001b[43mcwd\u001b[49m\u001b[43m,\u001b[49m\u001b[43m \u001b[49m\u001b[43menv\u001b[49m\u001b[43m,\u001b[49m\n\u001b[0;32m    953\u001b[0m \u001b[43m                        \u001b[49m\u001b[43mstartupinfo\u001b[49m\u001b[43m,\u001b[49m\u001b[43m \u001b[49m\u001b[43mcreationflags\u001b[49m\u001b[43m,\u001b[49m\u001b[43m \u001b[49m\u001b[43mshell\u001b[49m\u001b[43m,\u001b[49m\n\u001b[0;32m    954\u001b[0m \u001b[43m                        \u001b[49m\u001b[43mp2cread\u001b[49m\u001b[43m,\u001b[49m\u001b[43m \u001b[49m\u001b[43mp2cwrite\u001b[49m\u001b[43m,\u001b[49m\n\u001b[0;32m    955\u001b[0m \u001b[43m                        \u001b[49m\u001b[43mc2pread\u001b[49m\u001b[43m,\u001b[49m\u001b[43m \u001b[49m\u001b[43mc2pwrite\u001b[49m\u001b[43m,\u001b[49m\n\u001b[0;32m    956\u001b[0m \u001b[43m                        \u001b[49m\u001b[43merrread\u001b[49m\u001b[43m,\u001b[49m\u001b[43m \u001b[49m\u001b[43merrwrite\u001b[49m\u001b[43m,\u001b[49m\n\u001b[0;32m    957\u001b[0m \u001b[43m                        \u001b[49m\u001b[43mrestore_signals\u001b[49m\u001b[43m,\u001b[49m\n\u001b[0;32m    958\u001b[0m \u001b[43m                        \u001b[49m\u001b[43mgid\u001b[49m\u001b[43m,\u001b[49m\u001b[43m \u001b[49m\u001b[43mgids\u001b[49m\u001b[43m,\u001b[49m\u001b[43m \u001b[49m\u001b[43muid\u001b[49m\u001b[43m,\u001b[49m\u001b[43m \u001b[49m\u001b[43mumask\u001b[49m\u001b[43m,\u001b[49m\n\u001b[0;32m    959\u001b[0m \u001b[43m                        \u001b[49m\u001b[43mstart_new_session\u001b[49m\u001b[43m)\u001b[49m\n\u001b[0;32m    960\u001b[0m \u001b[38;5;28;01mexcept\u001b[39;00m:\n\u001b[0;32m    961\u001b[0m     \u001b[38;5;66;03m# Cleanup if the child failed starting.\u001b[39;00m\n",
      "File \u001b[1;32m~\\AppData\\Local\\Programs\\Python\\Python39\\lib\\subprocess.py:1420\u001b[0m, in \u001b[0;36mPopen._execute_child\u001b[1;34m(self, args, executable, preexec_fn, close_fds, pass_fds, cwd, env, startupinfo, creationflags, shell, p2cread, p2cwrite, c2pread, c2pwrite, errread, errwrite, unused_restore_signals, unused_gid, unused_gids, unused_uid, unused_umask, unused_start_new_session)\u001b[0m\n\u001b[0;32m   1419\u001b[0m \u001b[38;5;28;01mtry\u001b[39;00m:\n\u001b[1;32m-> 1420\u001b[0m     hp, ht, pid, tid \u001b[38;5;241m=\u001b[39m \u001b[43m_winapi\u001b[49m\u001b[38;5;241;43m.\u001b[39;49m\u001b[43mCreateProcess\u001b[49m\u001b[43m(\u001b[49m\u001b[43mexecutable\u001b[49m\u001b[43m,\u001b[49m\u001b[43m \u001b[49m\u001b[43margs\u001b[49m\u001b[43m,\u001b[49m\n\u001b[0;32m   1421\u001b[0m \u001b[43m                             \u001b[49m\u001b[38;5;66;43;03m# no special security\u001b[39;49;00m\n\u001b[0;32m   1422\u001b[0m \u001b[43m                             \u001b[49m\u001b[38;5;28;43;01mNone\u001b[39;49;00m\u001b[43m,\u001b[49m\u001b[43m \u001b[49m\u001b[38;5;28;43;01mNone\u001b[39;49;00m\u001b[43m,\u001b[49m\n\u001b[0;32m   1423\u001b[0m \u001b[43m                             \u001b[49m\u001b[38;5;28;43mint\u001b[39;49m\u001b[43m(\u001b[49m\u001b[38;5;129;43;01mnot\u001b[39;49;00m\u001b[43m \u001b[49m\u001b[43mclose_fds\u001b[49m\u001b[43m)\u001b[49m\u001b[43m,\u001b[49m\n\u001b[0;32m   1424\u001b[0m \u001b[43m                             \u001b[49m\u001b[43mcreationflags\u001b[49m\u001b[43m,\u001b[49m\n\u001b[0;32m   1425\u001b[0m \u001b[43m                             \u001b[49m\u001b[43menv\u001b[49m\u001b[43m,\u001b[49m\n\u001b[0;32m   1426\u001b[0m \u001b[43m                             \u001b[49m\u001b[43mcwd\u001b[49m\u001b[43m,\u001b[49m\n\u001b[0;32m   1427\u001b[0m \u001b[43m                             \u001b[49m\u001b[43mstartupinfo\u001b[49m\u001b[43m)\u001b[49m\n\u001b[0;32m   1428\u001b[0m \u001b[38;5;28;01mfinally\u001b[39;00m:\n\u001b[0;32m   1429\u001b[0m     \u001b[38;5;66;03m# Child is launched. Close the parent's copy of those pipe\u001b[39;00m\n\u001b[0;32m   1430\u001b[0m     \u001b[38;5;66;03m# handles that only the child should have open.  You need\u001b[39;00m\n\u001b[1;32m   (...)\u001b[0m\n\u001b[0;32m   1433\u001b[0m     \u001b[38;5;66;03m# pipe will not close when the child process exits and the\u001b[39;00m\n\u001b[0;32m   1434\u001b[0m     \u001b[38;5;66;03m# ReadFile will hang.\u001b[39;00m\n",
      "\u001b[1;31mFileNotFoundError\u001b[0m: [WinError 2] The system cannot find the file specified",
      "\nThe above exception was the direct cause of the following exception:\n",
      "\u001b[1;31mExecutableNotFound\u001b[0m                        Traceback (most recent call last)",
      "File \u001b[1;32mc:\\Users\\dgolden\\OneDrive - National University of Ireland, Galway\\Masters\\Semester 2\\CT5135 Research Topics in AI\\Assignment_2\\.venv\\lib\\site-packages\\IPython\\core\\formatters.py:974\u001b[0m, in \u001b[0;36mMimeBundleFormatter.__call__\u001b[1;34m(self, obj, include, exclude)\u001b[0m\n\u001b[0;32m    971\u001b[0m     method \u001b[38;5;241m=\u001b[39m get_real_method(obj, \u001b[38;5;28mself\u001b[39m\u001b[38;5;241m.\u001b[39mprint_method)\n\u001b[0;32m    973\u001b[0m     \u001b[38;5;28;01mif\u001b[39;00m method \u001b[38;5;129;01mis\u001b[39;00m \u001b[38;5;129;01mnot\u001b[39;00m \u001b[38;5;28;01mNone\u001b[39;00m:\n\u001b[1;32m--> 974\u001b[0m         \u001b[38;5;28;01mreturn\u001b[39;00m \u001b[43mmethod\u001b[49m\u001b[43m(\u001b[49m\u001b[43minclude\u001b[49m\u001b[38;5;241;43m=\u001b[39;49m\u001b[43minclude\u001b[49m\u001b[43m,\u001b[49m\u001b[43m \u001b[49m\u001b[43mexclude\u001b[49m\u001b[38;5;241;43m=\u001b[39;49m\u001b[43mexclude\u001b[49m\u001b[43m)\u001b[49m\n\u001b[0;32m    975\u001b[0m     \u001b[38;5;28;01mreturn\u001b[39;00m \u001b[38;5;28;01mNone\u001b[39;00m\n\u001b[0;32m    976\u001b[0m \u001b[38;5;28;01melse\u001b[39;00m:\n",
      "File \u001b[1;32mc:\\Users\\dgolden\\OneDrive - National University of Ireland, Galway\\Masters\\Semester 2\\CT5135 Research Topics in AI\\Assignment_2\\.venv\\lib\\site-packages\\graphviz\\jupyter_integration.py:98\u001b[0m, in \u001b[0;36mJupyterIntegration._repr_mimebundle_\u001b[1;34m(self, include, exclude, **_)\u001b[0m\n\u001b[0;32m     96\u001b[0m include \u001b[38;5;241m=\u001b[39m \u001b[38;5;28mset\u001b[39m(include) \u001b[38;5;28;01mif\u001b[39;00m include \u001b[38;5;129;01mis\u001b[39;00m \u001b[38;5;129;01mnot\u001b[39;00m \u001b[38;5;28;01mNone\u001b[39;00m \u001b[38;5;28;01melse\u001b[39;00m {\u001b[38;5;28mself\u001b[39m\u001b[38;5;241m.\u001b[39m_jupyter_mimetype}\n\u001b[0;32m     97\u001b[0m include \u001b[38;5;241m-\u001b[39m\u001b[38;5;241m=\u001b[39m \u001b[38;5;28mset\u001b[39m(exclude \u001b[38;5;129;01mor\u001b[39;00m [])\n\u001b[1;32m---> 98\u001b[0m \u001b[38;5;28;01mreturn\u001b[39;00m {mimetype: \u001b[38;5;28mgetattr\u001b[39m(\u001b[38;5;28mself\u001b[39m, method_name)()\n\u001b[0;32m     99\u001b[0m         \u001b[38;5;28;01mfor\u001b[39;00m mimetype, method_name \u001b[38;5;129;01min\u001b[39;00m MIME_TYPES\u001b[38;5;241m.\u001b[39mitems()\n\u001b[0;32m    100\u001b[0m         \u001b[38;5;28;01mif\u001b[39;00m mimetype \u001b[38;5;129;01min\u001b[39;00m include}\n",
      "File \u001b[1;32mc:\\Users\\dgolden\\OneDrive - National University of Ireland, Galway\\Masters\\Semester 2\\CT5135 Research Topics in AI\\Assignment_2\\.venv\\lib\\site-packages\\graphviz\\jupyter_integration.py:98\u001b[0m, in \u001b[0;36m<dictcomp>\u001b[1;34m(.0)\u001b[0m\n\u001b[0;32m     96\u001b[0m include \u001b[38;5;241m=\u001b[39m \u001b[38;5;28mset\u001b[39m(include) \u001b[38;5;28;01mif\u001b[39;00m include \u001b[38;5;129;01mis\u001b[39;00m \u001b[38;5;129;01mnot\u001b[39;00m \u001b[38;5;28;01mNone\u001b[39;00m \u001b[38;5;28;01melse\u001b[39;00m {\u001b[38;5;28mself\u001b[39m\u001b[38;5;241m.\u001b[39m_jupyter_mimetype}\n\u001b[0;32m     97\u001b[0m include \u001b[38;5;241m-\u001b[39m\u001b[38;5;241m=\u001b[39m \u001b[38;5;28mset\u001b[39m(exclude \u001b[38;5;129;01mor\u001b[39;00m [])\n\u001b[1;32m---> 98\u001b[0m \u001b[38;5;28;01mreturn\u001b[39;00m {mimetype: \u001b[38;5;28;43mgetattr\u001b[39;49m\u001b[43m(\u001b[49m\u001b[38;5;28;43mself\u001b[39;49m\u001b[43m,\u001b[49m\u001b[43m \u001b[49m\u001b[43mmethod_name\u001b[49m\u001b[43m)\u001b[49m\u001b[43m(\u001b[49m\u001b[43m)\u001b[49m\n\u001b[0;32m     99\u001b[0m         \u001b[38;5;28;01mfor\u001b[39;00m mimetype, method_name \u001b[38;5;129;01min\u001b[39;00m MIME_TYPES\u001b[38;5;241m.\u001b[39mitems()\n\u001b[0;32m    100\u001b[0m         \u001b[38;5;28;01mif\u001b[39;00m mimetype \u001b[38;5;129;01min\u001b[39;00m include}\n",
      "File \u001b[1;32mc:\\Users\\dgolden\\OneDrive - National University of Ireland, Galway\\Masters\\Semester 2\\CT5135 Research Topics in AI\\Assignment_2\\.venv\\lib\\site-packages\\graphviz\\jupyter_integration.py:108\u001b[0m, in \u001b[0;36mJupyterIntegration._repr_image_png\u001b[1;34m(self)\u001b[0m\n\u001b[0;32m    106\u001b[0m \u001b[38;5;28;01mdef\u001b[39;00m \u001b[38;5;21m_repr_image_png\u001b[39m(\u001b[38;5;28mself\u001b[39m) \u001b[38;5;241m-\u001b[39m\u001b[38;5;241m>\u001b[39m \u001b[38;5;28mbytes\u001b[39m:\n\u001b[0;32m    107\u001b[0m \u001b[38;5;250m    \u001b[39m\u001b[38;5;124;03m\"\"\"Return the rendered graph as PNG bytes.\"\"\"\u001b[39;00m\n\u001b[1;32m--> 108\u001b[0m     \u001b[38;5;28;01mreturn\u001b[39;00m \u001b[38;5;28;43mself\u001b[39;49m\u001b[38;5;241;43m.\u001b[39;49m\u001b[43mpipe\u001b[49m\u001b[43m(\u001b[49m\u001b[38;5;28;43mformat\u001b[39;49m\u001b[38;5;241;43m=\u001b[39;49m\u001b[38;5;124;43m'\u001b[39;49m\u001b[38;5;124;43mpng\u001b[39;49m\u001b[38;5;124;43m'\u001b[39;49m\u001b[43m)\u001b[49m\n",
      "File \u001b[1;32mc:\\Users\\dgolden\\OneDrive - National University of Ireland, Galway\\Masters\\Semester 2\\CT5135 Research Topics in AI\\Assignment_2\\.venv\\lib\\site-packages\\graphviz\\piping.py:104\u001b[0m, in \u001b[0;36mPipe.pipe\u001b[1;34m(self, format, renderer, formatter, neato_no_op, quiet, engine, encoding)\u001b[0m\n\u001b[0;32m     55\u001b[0m \u001b[38;5;28;01mdef\u001b[39;00m \u001b[38;5;21mpipe\u001b[39m(\u001b[38;5;28mself\u001b[39m,\n\u001b[0;32m     56\u001b[0m          \u001b[38;5;28mformat\u001b[39m: typing\u001b[38;5;241m.\u001b[39mOptional[\u001b[38;5;28mstr\u001b[39m] \u001b[38;5;241m=\u001b[39m \u001b[38;5;28;01mNone\u001b[39;00m,\n\u001b[0;32m     57\u001b[0m          renderer: typing\u001b[38;5;241m.\u001b[39mOptional[\u001b[38;5;28mstr\u001b[39m] \u001b[38;5;241m=\u001b[39m \u001b[38;5;28;01mNone\u001b[39;00m,\n\u001b[1;32m   (...)\u001b[0m\n\u001b[0;32m     61\u001b[0m          engine: typing\u001b[38;5;241m.\u001b[39mOptional[\u001b[38;5;28mstr\u001b[39m] \u001b[38;5;241m=\u001b[39m \u001b[38;5;28;01mNone\u001b[39;00m,\n\u001b[0;32m     62\u001b[0m          encoding: typing\u001b[38;5;241m.\u001b[39mOptional[\u001b[38;5;28mstr\u001b[39m] \u001b[38;5;241m=\u001b[39m \u001b[38;5;28;01mNone\u001b[39;00m) \u001b[38;5;241m-\u001b[39m\u001b[38;5;241m>\u001b[39m typing\u001b[38;5;241m.\u001b[39mUnion[\u001b[38;5;28mbytes\u001b[39m, \u001b[38;5;28mstr\u001b[39m]:\n\u001b[0;32m     63\u001b[0m \u001b[38;5;250m    \u001b[39m\u001b[38;5;124;03m\"\"\"Return the source piped through the Graphviz layout command.\u001b[39;00m\n\u001b[0;32m     64\u001b[0m \n\u001b[0;32m     65\u001b[0m \u001b[38;5;124;03m    Args:\u001b[39;00m\n\u001b[1;32m   (...)\u001b[0m\n\u001b[0;32m    102\u001b[0m \u001b[38;5;124;03m        '<?xml version='\u001b[39;00m\n\u001b[0;32m    103\u001b[0m \u001b[38;5;124;03m    \"\"\"\u001b[39;00m\n\u001b[1;32m--> 104\u001b[0m     \u001b[38;5;28;01mreturn\u001b[39;00m \u001b[38;5;28;43mself\u001b[39;49m\u001b[38;5;241;43m.\u001b[39;49m\u001b[43m_pipe_legacy\u001b[49m\u001b[43m(\u001b[49m\u001b[38;5;28;43mformat\u001b[39;49m\u001b[43m,\u001b[49m\n\u001b[0;32m    105\u001b[0m \u001b[43m                             \u001b[49m\u001b[43mrenderer\u001b[49m\u001b[38;5;241;43m=\u001b[39;49m\u001b[43mrenderer\u001b[49m\u001b[43m,\u001b[49m\n\u001b[0;32m    106\u001b[0m \u001b[43m                             \u001b[49m\u001b[43mformatter\u001b[49m\u001b[38;5;241;43m=\u001b[39;49m\u001b[43mformatter\u001b[49m\u001b[43m,\u001b[49m\n\u001b[0;32m    107\u001b[0m \u001b[43m                             \u001b[49m\u001b[43mneato_no_op\u001b[49m\u001b[38;5;241;43m=\u001b[39;49m\u001b[43mneato_no_op\u001b[49m\u001b[43m,\u001b[49m\n\u001b[0;32m    108\u001b[0m \u001b[43m                             \u001b[49m\u001b[43mquiet\u001b[49m\u001b[38;5;241;43m=\u001b[39;49m\u001b[43mquiet\u001b[49m\u001b[43m,\u001b[49m\n\u001b[0;32m    109\u001b[0m \u001b[43m                             \u001b[49m\u001b[43mengine\u001b[49m\u001b[38;5;241;43m=\u001b[39;49m\u001b[43mengine\u001b[49m\u001b[43m,\u001b[49m\n\u001b[0;32m    110\u001b[0m \u001b[43m                             \u001b[49m\u001b[43mencoding\u001b[49m\u001b[38;5;241;43m=\u001b[39;49m\u001b[43mencoding\u001b[49m\u001b[43m)\u001b[49m\n",
      "File \u001b[1;32mc:\\Users\\dgolden\\OneDrive - National University of Ireland, Galway\\Masters\\Semester 2\\CT5135 Research Topics in AI\\Assignment_2\\.venv\\lib\\site-packages\\graphviz\\_tools.py:171\u001b[0m, in \u001b[0;36mdeprecate_positional_args.<locals>.decorator.<locals>.wrapper\u001b[1;34m(*args, **kwargs)\u001b[0m\n\u001b[0;32m    162\u001b[0m     wanted \u001b[38;5;241m=\u001b[39m \u001b[38;5;124m'\u001b[39m\u001b[38;5;124m, \u001b[39m\u001b[38;5;124m'\u001b[39m\u001b[38;5;241m.\u001b[39mjoin(\u001b[38;5;124mf\u001b[39m\u001b[38;5;124m'\u001b[39m\u001b[38;5;132;01m{\u001b[39;00mname\u001b[38;5;132;01m}\u001b[39;00m\u001b[38;5;124m=\u001b[39m\u001b[38;5;132;01m{\u001b[39;00mvalue\u001b[38;5;132;01m!r}\u001b[39;00m\u001b[38;5;124m'\u001b[39m\n\u001b[0;32m    163\u001b[0m                        \u001b[38;5;28;01mfor\u001b[39;00m name, value \u001b[38;5;129;01min\u001b[39;00m deprecated\u001b[38;5;241m.\u001b[39mitems())\n\u001b[0;32m    164\u001b[0m     warnings\u001b[38;5;241m.\u001b[39mwarn(\u001b[38;5;124mf\u001b[39m\u001b[38;5;124m'\u001b[39m\u001b[38;5;124mThe signature of \u001b[39m\u001b[38;5;132;01m{\u001b[39;00mfunc\u001b[38;5;241m.\u001b[39m\u001b[38;5;18m__name__\u001b[39m\u001b[38;5;132;01m}\u001b[39;00m\u001b[38;5;124m will be reduced\u001b[39m\u001b[38;5;124m'\u001b[39m\n\u001b[0;32m    165\u001b[0m                   \u001b[38;5;124mf\u001b[39m\u001b[38;5;124m'\u001b[39m\u001b[38;5;124m to \u001b[39m\u001b[38;5;132;01m{\u001b[39;00msupported_number\u001b[38;5;132;01m}\u001b[39;00m\u001b[38;5;124m positional args\u001b[39m\u001b[38;5;124m'\u001b[39m\n\u001b[0;32m    166\u001b[0m                   \u001b[38;5;124mf\u001b[39m\u001b[38;5;124m'\u001b[39m\u001b[38;5;124m \u001b[39m\u001b[38;5;132;01m{\u001b[39;00m\u001b[38;5;28mlist\u001b[39m(supported)\u001b[38;5;132;01m}\u001b[39;00m\u001b[38;5;124m: pass \u001b[39m\u001b[38;5;132;01m{\u001b[39;00mwanted\u001b[38;5;132;01m}\u001b[39;00m\u001b[38;5;124m'\u001b[39m\n\u001b[0;32m    167\u001b[0m                   \u001b[38;5;124m'\u001b[39m\u001b[38;5;124m as keyword arg(s)\u001b[39m\u001b[38;5;124m'\u001b[39m,\n\u001b[0;32m    168\u001b[0m                   stacklevel\u001b[38;5;241m=\u001b[39mstacklevel,\n\u001b[0;32m    169\u001b[0m                   category\u001b[38;5;241m=\u001b[39mcategory)\n\u001b[1;32m--> 171\u001b[0m \u001b[38;5;28;01mreturn\u001b[39;00m func(\u001b[38;5;241m*\u001b[39margs, \u001b[38;5;241m*\u001b[39m\u001b[38;5;241m*\u001b[39mkwargs)\n",
      "File \u001b[1;32mc:\\Users\\dgolden\\OneDrive - National University of Ireland, Galway\\Masters\\Semester 2\\CT5135 Research Topics in AI\\Assignment_2\\.venv\\lib\\site-packages\\graphviz\\piping.py:121\u001b[0m, in \u001b[0;36mPipe._pipe_legacy\u001b[1;34m(self, format, renderer, formatter, neato_no_op, quiet, engine, encoding)\u001b[0m\n\u001b[0;32m    112\u001b[0m \u001b[38;5;129m@_tools\u001b[39m\u001b[38;5;241m.\u001b[39mdeprecate_positional_args(supported_number\u001b[38;5;241m=\u001b[39m\u001b[38;5;241m2\u001b[39m)\n\u001b[0;32m    113\u001b[0m \u001b[38;5;28;01mdef\u001b[39;00m \u001b[38;5;21m_pipe_legacy\u001b[39m(\u001b[38;5;28mself\u001b[39m,\n\u001b[0;32m    114\u001b[0m                  \u001b[38;5;28mformat\u001b[39m: typing\u001b[38;5;241m.\u001b[39mOptional[\u001b[38;5;28mstr\u001b[39m] \u001b[38;5;241m=\u001b[39m \u001b[38;5;28;01mNone\u001b[39;00m,\n\u001b[1;32m   (...)\u001b[0m\n\u001b[0;32m    119\u001b[0m                  engine: typing\u001b[38;5;241m.\u001b[39mOptional[\u001b[38;5;28mstr\u001b[39m] \u001b[38;5;241m=\u001b[39m \u001b[38;5;28;01mNone\u001b[39;00m,\n\u001b[0;32m    120\u001b[0m                  encoding: typing\u001b[38;5;241m.\u001b[39mOptional[\u001b[38;5;28mstr\u001b[39m] \u001b[38;5;241m=\u001b[39m \u001b[38;5;28;01mNone\u001b[39;00m) \u001b[38;5;241m-\u001b[39m\u001b[38;5;241m>\u001b[39m typing\u001b[38;5;241m.\u001b[39mUnion[\u001b[38;5;28mbytes\u001b[39m, \u001b[38;5;28mstr\u001b[39m]:\n\u001b[1;32m--> 121\u001b[0m     \u001b[38;5;28;01mreturn\u001b[39;00m \u001b[38;5;28;43mself\u001b[39;49m\u001b[38;5;241;43m.\u001b[39;49m\u001b[43m_pipe_future\u001b[49m\u001b[43m(\u001b[49m\u001b[38;5;28;43mformat\u001b[39;49m\u001b[43m,\u001b[49m\n\u001b[0;32m    122\u001b[0m \u001b[43m                             \u001b[49m\u001b[43mrenderer\u001b[49m\u001b[38;5;241;43m=\u001b[39;49m\u001b[43mrenderer\u001b[49m\u001b[43m,\u001b[49m\n\u001b[0;32m    123\u001b[0m \u001b[43m                             \u001b[49m\u001b[43mformatter\u001b[49m\u001b[38;5;241;43m=\u001b[39;49m\u001b[43mformatter\u001b[49m\u001b[43m,\u001b[49m\n\u001b[0;32m    124\u001b[0m \u001b[43m                             \u001b[49m\u001b[43mneato_no_op\u001b[49m\u001b[38;5;241;43m=\u001b[39;49m\u001b[43mneato_no_op\u001b[49m\u001b[43m,\u001b[49m\n\u001b[0;32m    125\u001b[0m \u001b[43m                             \u001b[49m\u001b[43mquiet\u001b[49m\u001b[38;5;241;43m=\u001b[39;49m\u001b[43mquiet\u001b[49m\u001b[43m,\u001b[49m\n\u001b[0;32m    126\u001b[0m \u001b[43m                             \u001b[49m\u001b[43mengine\u001b[49m\u001b[38;5;241;43m=\u001b[39;49m\u001b[43mengine\u001b[49m\u001b[43m,\u001b[49m\n\u001b[0;32m    127\u001b[0m \u001b[43m                             \u001b[49m\u001b[43mencoding\u001b[49m\u001b[38;5;241;43m=\u001b[39;49m\u001b[43mencoding\u001b[49m\u001b[43m)\u001b[49m\n",
      "File \u001b[1;32mc:\\Users\\dgolden\\OneDrive - National University of Ireland, Galway\\Masters\\Semester 2\\CT5135 Research Topics in AI\\Assignment_2\\.venv\\lib\\site-packages\\graphviz\\piping.py:161\u001b[0m, in \u001b[0;36mPipe._pipe_future\u001b[1;34m(self, format, renderer, formatter, neato_no_op, quiet, engine, encoding)\u001b[0m\n\u001b[0;32m    159\u001b[0m     \u001b[38;5;28;01melse\u001b[39;00m:\n\u001b[0;32m    160\u001b[0m         \u001b[38;5;28;01mreturn\u001b[39;00m raw\u001b[38;5;241m.\u001b[39mdecode(encoding)\n\u001b[1;32m--> 161\u001b[0m \u001b[38;5;28;01mreturn\u001b[39;00m \u001b[38;5;28mself\u001b[39m\u001b[38;5;241m.\u001b[39m_pipe_lines(\u001b[38;5;241m*\u001b[39margs, input_encoding\u001b[38;5;241m=\u001b[39m\u001b[38;5;28mself\u001b[39m\u001b[38;5;241m.\u001b[39mencoding, \u001b[38;5;241m*\u001b[39m\u001b[38;5;241m*\u001b[39mkwargs)\n",
      "File \u001b[1;32mc:\\Users\\dgolden\\OneDrive - National University of Ireland, Galway\\Masters\\Semester 2\\CT5135 Research Topics in AI\\Assignment_2\\.venv\\lib\\site-packages\\graphviz\\backend\\piping.py:161\u001b[0m, in \u001b[0;36mpipe_lines\u001b[1;34m(engine, format, input_lines, input_encoding, renderer, formatter, neato_no_op, quiet)\u001b[0m\n\u001b[0;32m    155\u001b[0m cmd \u001b[38;5;241m=\u001b[39m dot_command\u001b[38;5;241m.\u001b[39mcommand(engine, \u001b[38;5;28mformat\u001b[39m,\n\u001b[0;32m    156\u001b[0m                           renderer\u001b[38;5;241m=\u001b[39mrenderer,\n\u001b[0;32m    157\u001b[0m                           formatter\u001b[38;5;241m=\u001b[39mformatter,\n\u001b[0;32m    158\u001b[0m                           neato_no_op\u001b[38;5;241m=\u001b[39mneato_no_op)\n\u001b[0;32m    159\u001b[0m kwargs \u001b[38;5;241m=\u001b[39m {\u001b[38;5;124m'\u001b[39m\u001b[38;5;124minput_lines\u001b[39m\u001b[38;5;124m'\u001b[39m: (line\u001b[38;5;241m.\u001b[39mencode(input_encoding) \u001b[38;5;28;01mfor\u001b[39;00m line \u001b[38;5;129;01min\u001b[39;00m input_lines)}\n\u001b[1;32m--> 161\u001b[0m proc \u001b[38;5;241m=\u001b[39m execute\u001b[38;5;241m.\u001b[39mrun_check(cmd, capture_output\u001b[38;5;241m=\u001b[39m\u001b[38;5;28;01mTrue\u001b[39;00m, quiet\u001b[38;5;241m=\u001b[39mquiet, \u001b[38;5;241m*\u001b[39m\u001b[38;5;241m*\u001b[39mkwargs)\n\u001b[0;32m    162\u001b[0m \u001b[38;5;28;01mreturn\u001b[39;00m proc\u001b[38;5;241m.\u001b[39mstdout\n",
      "File \u001b[1;32mc:\\Users\\dgolden\\OneDrive - National University of Ireland, Galway\\Masters\\Semester 2\\CT5135 Research Topics in AI\\Assignment_2\\.venv\\lib\\site-packages\\graphviz\\backend\\execute.py:81\u001b[0m, in \u001b[0;36mrun_check\u001b[1;34m(cmd, input_lines, encoding, quiet, **kwargs)\u001b[0m\n\u001b[0;32m     79\u001b[0m \u001b[38;5;28;01mexcept\u001b[39;00m \u001b[38;5;167;01mOSError\u001b[39;00m \u001b[38;5;28;01mas\u001b[39;00m e:\n\u001b[0;32m     80\u001b[0m     \u001b[38;5;28;01mif\u001b[39;00m e\u001b[38;5;241m.\u001b[39merrno \u001b[38;5;241m==\u001b[39m errno\u001b[38;5;241m.\u001b[39mENOENT:\n\u001b[1;32m---> 81\u001b[0m         \u001b[38;5;28;01mraise\u001b[39;00m ExecutableNotFound(cmd) \u001b[38;5;28;01mfrom\u001b[39;00m \u001b[38;5;21;01me\u001b[39;00m\n\u001b[0;32m     82\u001b[0m     \u001b[38;5;28;01mraise\u001b[39;00m\n\u001b[0;32m     84\u001b[0m \u001b[38;5;28;01mif\u001b[39;00m \u001b[38;5;129;01mnot\u001b[39;00m quiet \u001b[38;5;129;01mand\u001b[39;00m proc\u001b[38;5;241m.\u001b[39mstderr:\n",
      "\u001b[1;31mExecutableNotFound\u001b[0m: failed to execute WindowsPath('dot'), make sure the Graphviz executables are on your systems' PATH"
     ]
    },
    {
     "data": {
      "text/plain": [
       "<graphviz.graphs.Digraph at 0x1db045d3f70>"
      ]
     },
     "execution_count": 51,
     "metadata": {},
     "output_type": "execute_result"
    }
   ],
   "source": [
    "model_graph.visual_graph\n"
   ]
  }
 ],
 "metadata": {
  "kernelspec": {
   "display_name": ".venv",
   "language": "python",
   "name": "python3"
  },
  "language_info": {
   "codemirror_mode": {
    "name": "ipython",
    "version": 3
   },
   "file_extension": ".py",
   "mimetype": "text/x-python",
   "name": "python",
   "nbconvert_exporter": "python",
   "pygments_lexer": "ipython3",
   "version": "3.9.11"
  }
 },
 "nbformat": 4,
 "nbformat_minor": 2
}
